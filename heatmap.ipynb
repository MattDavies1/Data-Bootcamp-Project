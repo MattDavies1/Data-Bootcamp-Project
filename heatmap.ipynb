{
 "metadata": {
  "language_info": {
   "codemirror_mode": {
    "name": "ipython",
    "version": 3
   },
   "file_extension": ".py",
   "mimetype": "text/x-python",
   "name": "python",
   "nbconvert_exporter": "python",
   "pygments_lexer": "ipython3",
   "version": "3.8.3-final"
  },
  "orig_nbformat": 2,
  "kernelspec": {
   "name": "python3",
   "display_name": "Python 3"
  }
 },
 "nbformat": 4,
 "nbformat_minor": 2,
 "cells": [
  {
   "cell_type": "code",
   "execution_count": 43,
   "metadata": {},
   "outputs": [],
   "source": [
    "import pandas as pd\n",
    "import matplotlib.pyplot as plt\n",
    "import numpy as np\n",
    "import os"
   ]
  },
  {
   "cell_type": "code",
   "execution_count": 44,
   "metadata": {},
   "outputs": [
    {
     "output_type": "execute_result",
     "data": {
      "text/plain": [
       "   ref_date     geo           dguid                        prevalence  \\\n",
       "0      1961  Canada  2016A000011124  Consuming population of cannabis   \n",
       "1      1961  Canada  2016A000011124  Consuming population of cannabis   \n",
       "2      1961  Canada  2016A000011124  Consuming population of cannabis   \n",
       "3      1961  Canada  2016A000011124  Consuming population of cannabis   \n",
       "4      1961  Canada  2016A000011124  Consuming population of cannabis   \n",
       "\n",
       "           age_group                       frequency_of_use      uom  uom_id  \\\n",
       "0  15 years and over                 Total, all frequencies  Persons     249   \n",
       "1  15 years and over                                   Once  Persons     249   \n",
       "2  15 years and over               Less than once per month  Persons     249   \n",
       "3  15 years and over           One to three times per month  Persons     249   \n",
       "4  15 years and over  At least once a week (excludes daily)  Persons     249   \n",
       "\n",
       "  scalar_factor  scalar_id       vector coordinate     value status  symbol  \\\n",
       "0        units           0  v1001799865    1.1.1.1  277512.0    NaN     NaN   \n",
       "1        units           0  v1001799866    1.1.1.2   17616.0    NaN     NaN   \n",
       "2        units           0  v1001799867    1.1.1.3   97880.0    NaN     NaN   \n",
       "3        units           0  v1001799868    1.1.1.4   51722.0    NaN     NaN   \n",
       "4        units           0  v1001799869    1.1.1.5   70428.0    NaN     NaN   \n",
       "\n",
       "   terminated  decimals  \n",
       "0         NaN         0  \n",
       "1         NaN         0  \n",
       "2         NaN         0  \n",
       "3         NaN         0  \n",
       "4         NaN         0  "
      ],
      "text/html": "<div>\n<style scoped>\n    .dataframe tbody tr th:only-of-type {\n        vertical-align: middle;\n    }\n\n    .dataframe tbody tr th {\n        vertical-align: top;\n    }\n\n    .dataframe thead th {\n        text-align: right;\n    }\n</style>\n<table border=\"1\" class=\"dataframe\">\n  <thead>\n    <tr style=\"text-align: right;\">\n      <th></th>\n      <th>ref_date</th>\n      <th>geo</th>\n      <th>dguid</th>\n      <th>prevalence</th>\n      <th>age_group</th>\n      <th>frequency_of_use</th>\n      <th>uom</th>\n      <th>uom_id</th>\n      <th>scalar_factor</th>\n      <th>scalar_id</th>\n      <th>vector</th>\n      <th>coordinate</th>\n      <th>value</th>\n      <th>status</th>\n      <th>symbol</th>\n      <th>terminated</th>\n      <th>decimals</th>\n    </tr>\n  </thead>\n  <tbody>\n    <tr>\n      <th>0</th>\n      <td>1961</td>\n      <td>Canada</td>\n      <td>2016A000011124</td>\n      <td>Consuming population of cannabis</td>\n      <td>15 years and over</td>\n      <td>Total, all frequencies</td>\n      <td>Persons</td>\n      <td>249</td>\n      <td>units</td>\n      <td>0</td>\n      <td>v1001799865</td>\n      <td>1.1.1.1</td>\n      <td>277512.0</td>\n      <td>NaN</td>\n      <td>NaN</td>\n      <td>NaN</td>\n      <td>0</td>\n    </tr>\n    <tr>\n      <th>1</th>\n      <td>1961</td>\n      <td>Canada</td>\n      <td>2016A000011124</td>\n      <td>Consuming population of cannabis</td>\n      <td>15 years and over</td>\n      <td>Once</td>\n      <td>Persons</td>\n      <td>249</td>\n      <td>units</td>\n      <td>0</td>\n      <td>v1001799866</td>\n      <td>1.1.1.2</td>\n      <td>17616.0</td>\n      <td>NaN</td>\n      <td>NaN</td>\n      <td>NaN</td>\n      <td>0</td>\n    </tr>\n    <tr>\n      <th>2</th>\n      <td>1961</td>\n      <td>Canada</td>\n      <td>2016A000011124</td>\n      <td>Consuming population of cannabis</td>\n      <td>15 years and over</td>\n      <td>Less than once per month</td>\n      <td>Persons</td>\n      <td>249</td>\n      <td>units</td>\n      <td>0</td>\n      <td>v1001799867</td>\n      <td>1.1.1.3</td>\n      <td>97880.0</td>\n      <td>NaN</td>\n      <td>NaN</td>\n      <td>NaN</td>\n      <td>0</td>\n    </tr>\n    <tr>\n      <th>3</th>\n      <td>1961</td>\n      <td>Canada</td>\n      <td>2016A000011124</td>\n      <td>Consuming population of cannabis</td>\n      <td>15 years and over</td>\n      <td>One to three times per month</td>\n      <td>Persons</td>\n      <td>249</td>\n      <td>units</td>\n      <td>0</td>\n      <td>v1001799868</td>\n      <td>1.1.1.4</td>\n      <td>51722.0</td>\n      <td>NaN</td>\n      <td>NaN</td>\n      <td>NaN</td>\n      <td>0</td>\n    </tr>\n    <tr>\n      <th>4</th>\n      <td>1961</td>\n      <td>Canada</td>\n      <td>2016A000011124</td>\n      <td>Consuming population of cannabis</td>\n      <td>15 years and over</td>\n      <td>At least once a week (excludes daily)</td>\n      <td>Persons</td>\n      <td>249</td>\n      <td>units</td>\n      <td>0</td>\n      <td>v1001799869</td>\n      <td>1.1.1.5</td>\n      <td>70428.0</td>\n      <td>NaN</td>\n      <td>NaN</td>\n      <td>NaN</td>\n      <td>0</td>\n    </tr>\n  </tbody>\n</table>\n</div>"
     },
     "metadata": {},
     "execution_count": 44
    }
   ],
   "source": [
    "# Read in cannabis data set\n",
    "cannabis_data_path = os.path.join('Resources', 'cannabis_usage_1961_2018.csv')\n",
    "cannabis_data = pd.read_csv(cannabis_data_path)\n",
    "\n",
    "# Clean dataset variable names\n",
    "cannabis_data.columns = cannabis_data.columns.str.strip().str.lower().str.replace(' ', '_')\n",
    "cannabis_data.head()"
   ]
  },
  {
   "cell_type": "code",
   "execution_count": 45,
   "metadata": {},
   "outputs": [
    {
     "output_type": "execute_result",
     "data": {
      "text/plain": [
       "   ref_date                        prevalence          age_group  \\\n",
       "0      1961  Consuming population of cannabis  15 years and over   \n",
       "1      1961  Consuming population of cannabis  15 years and over   \n",
       "2      1961  Consuming population of cannabis  15 years and over   \n",
       "3      1961  Consuming population of cannabis  15 years and over   \n",
       "4      1961  Consuming population of cannabis  15 years and over   \n",
       "\n",
       "                        frequency_of_use coordinate     value  \n",
       "0                 Total, all frequencies    1.1.1.1  277512.0  \n",
       "1                                   Once    1.1.1.2   17616.0  \n",
       "2               Less than once per month    1.1.1.3   97880.0  \n",
       "3           One to three times per month    1.1.1.4   51722.0  \n",
       "4  At least once a week (excludes daily)    1.1.1.5   70428.0  "
      ],
      "text/html": "<div>\n<style scoped>\n    .dataframe tbody tr th:only-of-type {\n        vertical-align: middle;\n    }\n\n    .dataframe tbody tr th {\n        vertical-align: top;\n    }\n\n    .dataframe thead th {\n        text-align: right;\n    }\n</style>\n<table border=\"1\" class=\"dataframe\">\n  <thead>\n    <tr style=\"text-align: right;\">\n      <th></th>\n      <th>ref_date</th>\n      <th>prevalence</th>\n      <th>age_group</th>\n      <th>frequency_of_use</th>\n      <th>coordinate</th>\n      <th>value</th>\n    </tr>\n  </thead>\n  <tbody>\n    <tr>\n      <th>0</th>\n      <td>1961</td>\n      <td>Consuming population of cannabis</td>\n      <td>15 years and over</td>\n      <td>Total, all frequencies</td>\n      <td>1.1.1.1</td>\n      <td>277512.0</td>\n    </tr>\n    <tr>\n      <th>1</th>\n      <td>1961</td>\n      <td>Consuming population of cannabis</td>\n      <td>15 years and over</td>\n      <td>Once</td>\n      <td>1.1.1.2</td>\n      <td>17616.0</td>\n    </tr>\n    <tr>\n      <th>2</th>\n      <td>1961</td>\n      <td>Consuming population of cannabis</td>\n      <td>15 years and over</td>\n      <td>Less than once per month</td>\n      <td>1.1.1.3</td>\n      <td>97880.0</td>\n    </tr>\n    <tr>\n      <th>3</th>\n      <td>1961</td>\n      <td>Consuming population of cannabis</td>\n      <td>15 years and over</td>\n      <td>One to three times per month</td>\n      <td>1.1.1.4</td>\n      <td>51722.0</td>\n    </tr>\n    <tr>\n      <th>4</th>\n      <td>1961</td>\n      <td>Consuming population of cannabis</td>\n      <td>15 years and over</td>\n      <td>At least once a week (excludes daily)</td>\n      <td>1.1.1.5</td>\n      <td>70428.0</td>\n    </tr>\n  </tbody>\n</table>\n</div>"
     },
     "metadata": {},
     "execution_count": 45
    }
   ],
   "source": [
    "# Drop erroneous variables in cannabis dataset\n",
    "cannabis_data = cannabis_data.drop(['geo', 'dguid', 'uom', 'uom_id', 'scalar_factor', 'scalar_id', 'vector', 'status', 'symbol', 'terminated', 'decimals'], axis=1)\n",
    "cannabis_data.head()"
   ]
  },
  {
   "cell_type": "code",
   "execution_count": 51,
   "metadata": {},
   "outputs": [
    {
     "output_type": "execute_result",
     "data": {
      "text/plain": [
       "      ref_date     geo           dguid         sex   age_group      uom  \\\n",
       "0         1971  Canada  2016A000011124  Both sexes    All ages  Persons   \n",
       "1         1972  Canada  2016A000011124  Both sexes    All ages  Persons   \n",
       "2         1973  Canada  2016A000011124  Both sexes    All ages  Persons   \n",
       "3         1974  Canada  2016A000011124  Both sexes    All ages  Persons   \n",
       "4         1975  Canada  2016A000011124  Both sexes    All ages  Persons   \n",
       "...        ...     ...             ...         ...         ...      ...   \n",
       "1085      2016  Canada  2016A000011124  Both sexes  Median age    Years   \n",
       "1086      2017  Canada  2016A000011124  Both sexes  Median age    Years   \n",
       "1087      2018  Canada  2016A000011124  Both sexes  Median age    Years   \n",
       "1088      2019  Canada  2016A000011124  Both sexes  Median age    Years   \n",
       "1089      2020  Canada  2016A000011124  Both sexes  Median age    Years   \n",
       "\n",
       "      uom_id scalar_factor  scalar_id   vector coordinate       value status  \\\n",
       "0        249         units          0  v466668      1.1.1  21962032.0    NaN   \n",
       "1        249         units          0  v466668      1.1.1  22218463.0    NaN   \n",
       "2        249         units          0  v466668      1.1.1  22491777.0    NaN   \n",
       "3        249         units          0  v466668      1.1.1  22807969.0    NaN   \n",
       "4        249         units          0  v466668      1.1.1  23143275.0    NaN   \n",
       "...      ...           ...        ...      ...        ...         ...    ...   \n",
       "1085     308         units          0  v466689    1.1.105        40.7    NaN   \n",
       "1086     308         units          0  v466689    1.1.105        40.8    NaN   \n",
       "1087     308         units          0  v466689    1.1.105        40.8    NaN   \n",
       "1088     308         units          0  v466689    1.1.105        40.8    NaN   \n",
       "1089     308         units          0  v466689    1.1.105        40.9    NaN   \n",
       "\n",
       "      symbol  terminated  decimals  \n",
       "0        NaN         NaN         0  \n",
       "1        NaN         NaN         0  \n",
       "2        NaN         NaN         0  \n",
       "3        NaN         NaN         0  \n",
       "4        NaN         NaN         0  \n",
       "...      ...         ...       ...  \n",
       "1085     NaN         NaN         1  \n",
       "1086     NaN         NaN         1  \n",
       "1087     NaN         NaN         1  \n",
       "1088     NaN         NaN         1  \n",
       "1089     NaN         NaN         1  \n",
       "\n",
       "[1090 rows x 16 columns]"
      ],
      "text/html": "<div>\n<style scoped>\n    .dataframe tbody tr th:only-of-type {\n        vertical-align: middle;\n    }\n\n    .dataframe tbody tr th {\n        vertical-align: top;\n    }\n\n    .dataframe thead th {\n        text-align: right;\n    }\n</style>\n<table border=\"1\" class=\"dataframe\">\n  <thead>\n    <tr style=\"text-align: right;\">\n      <th></th>\n      <th>ref_date</th>\n      <th>geo</th>\n      <th>dguid</th>\n      <th>sex</th>\n      <th>age_group</th>\n      <th>uom</th>\n      <th>uom_id</th>\n      <th>scalar_factor</th>\n      <th>scalar_id</th>\n      <th>vector</th>\n      <th>coordinate</th>\n      <th>value</th>\n      <th>status</th>\n      <th>symbol</th>\n      <th>terminated</th>\n      <th>decimals</th>\n    </tr>\n  </thead>\n  <tbody>\n    <tr>\n      <th>0</th>\n      <td>1971</td>\n      <td>Canada</td>\n      <td>2016A000011124</td>\n      <td>Both sexes</td>\n      <td>All ages</td>\n      <td>Persons</td>\n      <td>249</td>\n      <td>units</td>\n      <td>0</td>\n      <td>v466668</td>\n      <td>1.1.1</td>\n      <td>21962032.0</td>\n      <td>NaN</td>\n      <td>NaN</td>\n      <td>NaN</td>\n      <td>0</td>\n    </tr>\n    <tr>\n      <th>1</th>\n      <td>1972</td>\n      <td>Canada</td>\n      <td>2016A000011124</td>\n      <td>Both sexes</td>\n      <td>All ages</td>\n      <td>Persons</td>\n      <td>249</td>\n      <td>units</td>\n      <td>0</td>\n      <td>v466668</td>\n      <td>1.1.1</td>\n      <td>22218463.0</td>\n      <td>NaN</td>\n      <td>NaN</td>\n      <td>NaN</td>\n      <td>0</td>\n    </tr>\n    <tr>\n      <th>2</th>\n      <td>1973</td>\n      <td>Canada</td>\n      <td>2016A000011124</td>\n      <td>Both sexes</td>\n      <td>All ages</td>\n      <td>Persons</td>\n      <td>249</td>\n      <td>units</td>\n      <td>0</td>\n      <td>v466668</td>\n      <td>1.1.1</td>\n      <td>22491777.0</td>\n      <td>NaN</td>\n      <td>NaN</td>\n      <td>NaN</td>\n      <td>0</td>\n    </tr>\n    <tr>\n      <th>3</th>\n      <td>1974</td>\n      <td>Canada</td>\n      <td>2016A000011124</td>\n      <td>Both sexes</td>\n      <td>All ages</td>\n      <td>Persons</td>\n      <td>249</td>\n      <td>units</td>\n      <td>0</td>\n      <td>v466668</td>\n      <td>1.1.1</td>\n      <td>22807969.0</td>\n      <td>NaN</td>\n      <td>NaN</td>\n      <td>NaN</td>\n      <td>0</td>\n    </tr>\n    <tr>\n      <th>4</th>\n      <td>1975</td>\n      <td>Canada</td>\n      <td>2016A000011124</td>\n      <td>Both sexes</td>\n      <td>All ages</td>\n      <td>Persons</td>\n      <td>249</td>\n      <td>units</td>\n      <td>0</td>\n      <td>v466668</td>\n      <td>1.1.1</td>\n      <td>23143275.0</td>\n      <td>NaN</td>\n      <td>NaN</td>\n      <td>NaN</td>\n      <td>0</td>\n    </tr>\n    <tr>\n      <th>...</th>\n      <td>...</td>\n      <td>...</td>\n      <td>...</td>\n      <td>...</td>\n      <td>...</td>\n      <td>...</td>\n      <td>...</td>\n      <td>...</td>\n      <td>...</td>\n      <td>...</td>\n      <td>...</td>\n      <td>...</td>\n      <td>...</td>\n      <td>...</td>\n      <td>...</td>\n      <td>...</td>\n    </tr>\n    <tr>\n      <th>1085</th>\n      <td>2016</td>\n      <td>Canada</td>\n      <td>2016A000011124</td>\n      <td>Both sexes</td>\n      <td>Median age</td>\n      <td>Years</td>\n      <td>308</td>\n      <td>units</td>\n      <td>0</td>\n      <td>v466689</td>\n      <td>1.1.105</td>\n      <td>40.7</td>\n      <td>NaN</td>\n      <td>NaN</td>\n      <td>NaN</td>\n      <td>1</td>\n    </tr>\n    <tr>\n      <th>1086</th>\n      <td>2017</td>\n      <td>Canada</td>\n      <td>2016A000011124</td>\n      <td>Both sexes</td>\n      <td>Median age</td>\n      <td>Years</td>\n      <td>308</td>\n      <td>units</td>\n      <td>0</td>\n      <td>v466689</td>\n      <td>1.1.105</td>\n      <td>40.8</td>\n      <td>NaN</td>\n      <td>NaN</td>\n      <td>NaN</td>\n      <td>1</td>\n    </tr>\n    <tr>\n      <th>1087</th>\n      <td>2018</td>\n      <td>Canada</td>\n      <td>2016A000011124</td>\n      <td>Both sexes</td>\n      <td>Median age</td>\n      <td>Years</td>\n      <td>308</td>\n      <td>units</td>\n      <td>0</td>\n      <td>v466689</td>\n      <td>1.1.105</td>\n      <td>40.8</td>\n      <td>NaN</td>\n      <td>NaN</td>\n      <td>NaN</td>\n      <td>1</td>\n    </tr>\n    <tr>\n      <th>1088</th>\n      <td>2019</td>\n      <td>Canada</td>\n      <td>2016A000011124</td>\n      <td>Both sexes</td>\n      <td>Median age</td>\n      <td>Years</td>\n      <td>308</td>\n      <td>units</td>\n      <td>0</td>\n      <td>v466689</td>\n      <td>1.1.105</td>\n      <td>40.8</td>\n      <td>NaN</td>\n      <td>NaN</td>\n      <td>NaN</td>\n      <td>1</td>\n    </tr>\n    <tr>\n      <th>1089</th>\n      <td>2020</td>\n      <td>Canada</td>\n      <td>2016A000011124</td>\n      <td>Both sexes</td>\n      <td>Median age</td>\n      <td>Years</td>\n      <td>308</td>\n      <td>units</td>\n      <td>0</td>\n      <td>v466689</td>\n      <td>1.1.105</td>\n      <td>40.9</td>\n      <td>NaN</td>\n      <td>NaN</td>\n      <td>NaN</td>\n      <td>1</td>\n    </tr>\n  </tbody>\n</table>\n<p>1090 rows × 16 columns</p>\n</div>"
     },
     "metadata": {},
     "execution_count": 51
    }
   ],
   "source": [
    "# Read in population data\n",
    "pop_data_path = os.path.join('Resources', 'demographic_data_canada_1971_2020.csv')\n",
    "pop_data = pd.read_csv(pop_data_path)\n",
    "\n",
    "# Clean dataset variable names\n",
    "pop_data.columns = pop_data.columns.str.strip().str.lower().str.replace(' ', '_')\n",
    "pop_data"
   ]
  },
  {
   "cell_type": "code",
   "execution_count": 52,
   "metadata": {},
   "outputs": [
    {
     "output_type": "execute_result",
     "data": {
      "text/plain": [
       "      ref_date   age_group      uom coordinate       value\n",
       "0         1971    All ages  Persons      1.1.1  21962032.0\n",
       "1         1972    All ages  Persons      1.1.1  22218463.0\n",
       "2         1973    All ages  Persons      1.1.1  22491777.0\n",
       "3         1974    All ages  Persons      1.1.1  22807969.0\n",
       "4         1975    All ages  Persons      1.1.1  23143275.0\n",
       "...        ...         ...      ...        ...         ...\n",
       "1085      2016  Median age    Years    1.1.105        40.7\n",
       "1086      2017  Median age    Years    1.1.105        40.8\n",
       "1087      2018  Median age    Years    1.1.105        40.8\n",
       "1088      2019  Median age    Years    1.1.105        40.8\n",
       "1089      2020  Median age    Years    1.1.105        40.9\n",
       "\n",
       "[1090 rows x 5 columns]"
      ],
      "text/html": "<div>\n<style scoped>\n    .dataframe tbody tr th:only-of-type {\n        vertical-align: middle;\n    }\n\n    .dataframe tbody tr th {\n        vertical-align: top;\n    }\n\n    .dataframe thead th {\n        text-align: right;\n    }\n</style>\n<table border=\"1\" class=\"dataframe\">\n  <thead>\n    <tr style=\"text-align: right;\">\n      <th></th>\n      <th>ref_date</th>\n      <th>age_group</th>\n      <th>uom</th>\n      <th>coordinate</th>\n      <th>value</th>\n    </tr>\n  </thead>\n  <tbody>\n    <tr>\n      <th>0</th>\n      <td>1971</td>\n      <td>All ages</td>\n      <td>Persons</td>\n      <td>1.1.1</td>\n      <td>21962032.0</td>\n    </tr>\n    <tr>\n      <th>1</th>\n      <td>1972</td>\n      <td>All ages</td>\n      <td>Persons</td>\n      <td>1.1.1</td>\n      <td>22218463.0</td>\n    </tr>\n    <tr>\n      <th>2</th>\n      <td>1973</td>\n      <td>All ages</td>\n      <td>Persons</td>\n      <td>1.1.1</td>\n      <td>22491777.0</td>\n    </tr>\n    <tr>\n      <th>3</th>\n      <td>1974</td>\n      <td>All ages</td>\n      <td>Persons</td>\n      <td>1.1.1</td>\n      <td>22807969.0</td>\n    </tr>\n    <tr>\n      <th>4</th>\n      <td>1975</td>\n      <td>All ages</td>\n      <td>Persons</td>\n      <td>1.1.1</td>\n      <td>23143275.0</td>\n    </tr>\n    <tr>\n      <th>...</th>\n      <td>...</td>\n      <td>...</td>\n      <td>...</td>\n      <td>...</td>\n      <td>...</td>\n    </tr>\n    <tr>\n      <th>1085</th>\n      <td>2016</td>\n      <td>Median age</td>\n      <td>Years</td>\n      <td>1.1.105</td>\n      <td>40.7</td>\n    </tr>\n    <tr>\n      <th>1086</th>\n      <td>2017</td>\n      <td>Median age</td>\n      <td>Years</td>\n      <td>1.1.105</td>\n      <td>40.8</td>\n    </tr>\n    <tr>\n      <th>1087</th>\n      <td>2018</td>\n      <td>Median age</td>\n      <td>Years</td>\n      <td>1.1.105</td>\n      <td>40.8</td>\n    </tr>\n    <tr>\n      <th>1088</th>\n      <td>2019</td>\n      <td>Median age</td>\n      <td>Years</td>\n      <td>1.1.105</td>\n      <td>40.8</td>\n    </tr>\n    <tr>\n      <th>1089</th>\n      <td>2020</td>\n      <td>Median age</td>\n      <td>Years</td>\n      <td>1.1.105</td>\n      <td>40.9</td>\n    </tr>\n  </tbody>\n</table>\n<p>1090 rows × 5 columns</p>\n</div>"
     },
     "metadata": {},
     "execution_count": 52
    }
   ],
   "source": [
    "# Drop erroneous variables in cannabis dataset\n",
    "pop_data = pop_data.drop(['geo', 'dguid', 'sex', 'uom_id', 'scalar_factor', 'scalar_id', 'vector', 'status', 'symbol', 'terminated', 'decimals'], axis=1)\n",
    "pop_data"
   ]
  },
  {
   "cell_type": "code",
   "execution_count": 57,
   "metadata": {},
   "outputs": [
    {
     "output_type": "execute_result",
     "data": {
      "text/plain": [
       "     ref_date       age_group      uom coordinate      value\n",
       "200      1971  15 to 19 years  Persons     1.1.25  2164092.0\n",
       "201      1972  15 to 19 years  Persons     1.1.25  2221277.0\n",
       "202      1973  15 to 19 years  Persons     1.1.25  2272006.0\n",
       "203      1974  15 to 19 years  Persons     1.1.25  2314170.0\n",
       "204      1975  15 to 19 years  Persons     1.1.25  2347857.0\n",
       "..        ...             ...      ...        ...        ...\n",
       "695      2016  60 to 64 years  Persons     1.1.79  2313160.0\n",
       "696      2017  60 to 64 years  Persons     1.1.79  2388059.0\n",
       "697      2018  60 to 64 years  Persons     1.1.79  2457490.0\n",
       "698      2019  60 to 64 years  Persons     1.1.79  2513706.0\n",
       "699      2020  60 to 64 years  Persons     1.1.79  2560241.0\n",
       "\n",
       "[500 rows x 5 columns]"
      ],
      "text/html": "<div>\n<style scoped>\n    .dataframe tbody tr th:only-of-type {\n        vertical-align: middle;\n    }\n\n    .dataframe tbody tr th {\n        vertical-align: top;\n    }\n\n    .dataframe thead th {\n        text-align: right;\n    }\n</style>\n<table border=\"1\" class=\"dataframe\">\n  <thead>\n    <tr style=\"text-align: right;\">\n      <th></th>\n      <th>ref_date</th>\n      <th>age_group</th>\n      <th>uom</th>\n      <th>coordinate</th>\n      <th>value</th>\n    </tr>\n  </thead>\n  <tbody>\n    <tr>\n      <th>200</th>\n      <td>1971</td>\n      <td>15 to 19 years</td>\n      <td>Persons</td>\n      <td>1.1.25</td>\n      <td>2164092.0</td>\n    </tr>\n    <tr>\n      <th>201</th>\n      <td>1972</td>\n      <td>15 to 19 years</td>\n      <td>Persons</td>\n      <td>1.1.25</td>\n      <td>2221277.0</td>\n    </tr>\n    <tr>\n      <th>202</th>\n      <td>1973</td>\n      <td>15 to 19 years</td>\n      <td>Persons</td>\n      <td>1.1.25</td>\n      <td>2272006.0</td>\n    </tr>\n    <tr>\n      <th>203</th>\n      <td>1974</td>\n      <td>15 to 19 years</td>\n      <td>Persons</td>\n      <td>1.1.25</td>\n      <td>2314170.0</td>\n    </tr>\n    <tr>\n      <th>204</th>\n      <td>1975</td>\n      <td>15 to 19 years</td>\n      <td>Persons</td>\n      <td>1.1.25</td>\n      <td>2347857.0</td>\n    </tr>\n    <tr>\n      <th>...</th>\n      <td>...</td>\n      <td>...</td>\n      <td>...</td>\n      <td>...</td>\n      <td>...</td>\n    </tr>\n    <tr>\n      <th>695</th>\n      <td>2016</td>\n      <td>60 to 64 years</td>\n      <td>Persons</td>\n      <td>1.1.79</td>\n      <td>2313160.0</td>\n    </tr>\n    <tr>\n      <th>696</th>\n      <td>2017</td>\n      <td>60 to 64 years</td>\n      <td>Persons</td>\n      <td>1.1.79</td>\n      <td>2388059.0</td>\n    </tr>\n    <tr>\n      <th>697</th>\n      <td>2018</td>\n      <td>60 to 64 years</td>\n      <td>Persons</td>\n      <td>1.1.79</td>\n      <td>2457490.0</td>\n    </tr>\n    <tr>\n      <th>698</th>\n      <td>2019</td>\n      <td>60 to 64 years</td>\n      <td>Persons</td>\n      <td>1.1.79</td>\n      <td>2513706.0</td>\n    </tr>\n    <tr>\n      <th>699</th>\n      <td>2020</td>\n      <td>60 to 64 years</td>\n      <td>Persons</td>\n      <td>1.1.79</td>\n      <td>2560241.0</td>\n    </tr>\n  </tbody>\n</table>\n<p>500 rows × 5 columns</p>\n</div>"
     },
     "metadata": {},
     "execution_count": 57
    }
   ],
   "source": [
    "# Drop erroneous rows in data set\n",
    "relevant_age_df = pop_data.loc[pop_data.age_group.isin([\n",
    " '15 to 19 years',\n",
    " '20 to 24 years',\n",
    " '25 to 29 years',\n",
    " '30 to 34 years',\n",
    " '35 to 39 years',\n",
    " '40 to 44 years',\n",
    " '45 to 49 years',\n",
    " '50 to 54 years',\n",
    " '55 to 59 years',\n",
    " '60 to 64 years',]), :]\n",
    "\n",
    "relevant_age_df"
   ]
  },
  {
   "cell_type": "code",
   "execution_count": 86,
   "metadata": {},
   "outputs": [
    {
     "output_type": "execute_result",
     "data": {
      "text/plain": [
       "     ref_date       age_group       value\n",
       "0        1971  15 to 24 years   4141006.0\n",
       "1        1971  25 to 44 years   4272310.0\n",
       "2        1971  45 to 65 years   5353040.0\n",
       "3        1972  15 to 24 years   4211044.0\n",
       "4        1972  25 to 44 years   4422840.0\n",
       "..        ...             ...         ...\n",
       "145      2019  25 to 44 years   7812332.0\n",
       "146      2019  45 to 65 years  12589414.0\n",
       "147      2020  15 to 24 years   4583667.0\n",
       "148      2020  25 to 44 years   7937643.0\n",
       "149      2020  45 to 65 years  12609415.0\n",
       "\n",
       "[150 rows x 3 columns]"
      ],
      "text/html": "<div>\n<style scoped>\n    .dataframe tbody tr th:only-of-type {\n        vertical-align: middle;\n    }\n\n    .dataframe tbody tr th {\n        vertical-align: top;\n    }\n\n    .dataframe thead th {\n        text-align: right;\n    }\n</style>\n<table border=\"1\" class=\"dataframe\">\n  <thead>\n    <tr style=\"text-align: right;\">\n      <th></th>\n      <th>ref_date</th>\n      <th>age_group</th>\n      <th>value</th>\n    </tr>\n  </thead>\n  <tbody>\n    <tr>\n      <th>0</th>\n      <td>1971</td>\n      <td>15 to 24 years</td>\n      <td>4141006.0</td>\n    </tr>\n    <tr>\n      <th>1</th>\n      <td>1971</td>\n      <td>25 to 44 years</td>\n      <td>4272310.0</td>\n    </tr>\n    <tr>\n      <th>2</th>\n      <td>1971</td>\n      <td>45 to 65 years</td>\n      <td>5353040.0</td>\n    </tr>\n    <tr>\n      <th>3</th>\n      <td>1972</td>\n      <td>15 to 24 years</td>\n      <td>4211044.0</td>\n    </tr>\n    <tr>\n      <th>4</th>\n      <td>1972</td>\n      <td>25 to 44 years</td>\n      <td>4422840.0</td>\n    </tr>\n    <tr>\n      <th>...</th>\n      <td>...</td>\n      <td>...</td>\n      <td>...</td>\n    </tr>\n    <tr>\n      <th>145</th>\n      <td>2019</td>\n      <td>25 to 44 years</td>\n      <td>7812332.0</td>\n    </tr>\n    <tr>\n      <th>146</th>\n      <td>2019</td>\n      <td>45 to 65 years</td>\n      <td>12589414.0</td>\n    </tr>\n    <tr>\n      <th>147</th>\n      <td>2020</td>\n      <td>15 to 24 years</td>\n      <td>4583667.0</td>\n    </tr>\n    <tr>\n      <th>148</th>\n      <td>2020</td>\n      <td>25 to 44 years</td>\n      <td>7937643.0</td>\n    </tr>\n    <tr>\n      <th>149</th>\n      <td>2020</td>\n      <td>45 to 65 years</td>\n      <td>12609415.0</td>\n    </tr>\n  </tbody>\n</table>\n<p>150 rows × 3 columns</p>\n</div>"
     },
     "metadata": {},
     "execution_count": 86
    }
   ],
   "source": [
    "# Make dictionary to replace bin-values for rebinning\n",
    "population_groups = {\n",
    "    '15 to 19 years':'15 to 24 years',\n",
    "    '20 to 24 years':'15 to 24 years',\n",
    "    '25 to 29 years':'25 to 44 years',\n",
    "    '30 to 34 years':'25 to 44 years',\n",
    "    '35 to 39 years':'25 to 44 years',\n",
    "    '40 to 44 years':'45 to 65 years',\n",
    "    '45 to 49 years':'45 to 65 years',\n",
    "    '50 to 54 years':'45 to 65 years',\n",
    "    '55 to 59 years':'45 to 65 years',\n",
    "    '60 to 64 years':'45 to 65 years', \n",
    "}\n",
    "\n",
    "# Replace names in age_groups\n",
    "rebinned_pop_df = relevant_age_df.replace(population_groups)\n",
    "rebinned_pop_df.sort_values('ref_date')\n",
    "\n",
    "# Re-bin values\n",
    "grouped_binned_pop = rebinned_pop_df.groupby(['ref_date', 'age_group']).value.sum()\n",
    "grouped_binned_pop = pd.DataFrame(grouped_binned_pop)\n",
    "grouped_binned_pop = grouped_binned_pop.reset_index()\n",
    "grouped_binned_pop"
   ]
  },
  {
   "cell_type": "code",
   "execution_count": 103,
   "metadata": {},
   "outputs": [
    {
     "output_type": "execute_result",
     "data": {
      "text/plain": [
       "     ref_date       age_group      value\n",
       "0        1961  15 to 24 years   173646.0\n",
       "1        1961  25 to 44 years    47466.0\n",
       "2        1961  45 to 64 years    56399.0\n",
       "3        1962  15 to 24 years   206500.0\n",
       "4        1962  25 to 44 years    47486.0\n",
       "..        ...             ...        ...\n",
       "169      2017  25 to 44 years  2104791.0\n",
       "170      2017  45 to 64 years  1138798.0\n",
       "171      2018  15 to 24 years  1683164.0\n",
       "172      2018  25 to 44 years  2171770.0\n",
       "173      2018  45 to 64 years  1180015.0\n",
       "\n",
       "[174 rows x 3 columns]"
      ],
      "text/html": "<div>\n<style scoped>\n    .dataframe tbody tr th:only-of-type {\n        vertical-align: middle;\n    }\n\n    .dataframe tbody tr th {\n        vertical-align: top;\n    }\n\n    .dataframe thead th {\n        text-align: right;\n    }\n</style>\n<table border=\"1\" class=\"dataframe\">\n  <thead>\n    <tr style=\"text-align: right;\">\n      <th></th>\n      <th>ref_date</th>\n      <th>age_group</th>\n      <th>value</th>\n    </tr>\n  </thead>\n  <tbody>\n    <tr>\n      <th>0</th>\n      <td>1961</td>\n      <td>15 to 24 years</td>\n      <td>173646.0</td>\n    </tr>\n    <tr>\n      <th>1</th>\n      <td>1961</td>\n      <td>25 to 44 years</td>\n      <td>47466.0</td>\n    </tr>\n    <tr>\n      <th>2</th>\n      <td>1961</td>\n      <td>45 to 64 years</td>\n      <td>56399.0</td>\n    </tr>\n    <tr>\n      <th>3</th>\n      <td>1962</td>\n      <td>15 to 24 years</td>\n      <td>206500.0</td>\n    </tr>\n    <tr>\n      <th>4</th>\n      <td>1962</td>\n      <td>25 to 44 years</td>\n      <td>47486.0</td>\n    </tr>\n    <tr>\n      <th>...</th>\n      <td>...</td>\n      <td>...</td>\n      <td>...</td>\n    </tr>\n    <tr>\n      <th>169</th>\n      <td>2017</td>\n      <td>25 to 44 years</td>\n      <td>2104791.0</td>\n    </tr>\n    <tr>\n      <th>170</th>\n      <td>2017</td>\n      <td>45 to 64 years</td>\n      <td>1138798.0</td>\n    </tr>\n    <tr>\n      <th>171</th>\n      <td>2018</td>\n      <td>15 to 24 years</td>\n      <td>1683164.0</td>\n    </tr>\n    <tr>\n      <th>172</th>\n      <td>2018</td>\n      <td>25 to 44 years</td>\n      <td>2171770.0</td>\n    </tr>\n    <tr>\n      <th>173</th>\n      <td>2018</td>\n      <td>45 to 64 years</td>\n      <td>1180015.0</td>\n    </tr>\n  </tbody>\n</table>\n<p>174 rows × 3 columns</p>\n</div>"
     },
     "metadata": {},
     "execution_count": 103
    }
   ],
   "source": [
    "# Remove erroneous rows from cannabis DataFrame\n",
    "annual_age_consumption = cannabis_data.loc[(data.frequency_of_use == 'Total, all frequencies') & (cannabis_data.prevalence == 'Consuming population of cannabis') & (data.age_group != '15 years and over') & (data.age_group != '65 years and over'),:]\n",
    "annual_age_consumption = annual_age_consumption.reset_index(drop=True)\n",
    "\n",
    "# Make dictionary for re-binning\n",
    "age_groups = {\n",
    "    '15 to 17 years ':'15 to 24 years',\n",
    "    '18 to 24 years':'15 to 24 years'\n",
    "}\n",
    "\n",
    "# Replace names in age_group\n",
    "rebinned_cannabis_df = annual_age_consumption.replace(age_groups)\n",
    "\n",
    "# Re-bin values\n",
    "grouped_binned_cannabis = rebinned_cannabis_df.groupby(['ref_date','age_group']).value.sum()\n",
    "grouped_binned_cannabis = pd.DataFrame(grouped_binned_cannabis)\n",
    "grouped_binned_cannabis = grouped_binned_cannabis.reset_index()\n",
    "\n",
    "grouped_binned_cannabis"
   ]
  },
  {
   "cell_type": "code",
   "execution_count": 109,
   "metadata": {},
   "outputs": [
    {
     "output_type": "execute_result",
     "data": {
      "text/plain": [
       "    ref_date       age_group  value_cannabis  value_pop\n",
       "0       1971  15 to 24 years       1189603.0  4141006.0\n",
       "1       1971  25 to 44 years         98434.0  4272310.0\n",
       "2       1972  15 to 24 years       1306569.0  4211044.0\n",
       "3       1972  25 to 44 years        117521.0  4422840.0\n",
       "4       1973  15 to 24 years       1403415.0  4304699.0\n",
       "..       ...             ...             ...        ...\n",
       "91      2016  25 to 44 years       2013181.0  7364791.0\n",
       "92      2017  15 to 24 years       1632955.0  4492017.0\n",
       "93      2017  25 to 44 years       2104791.0  7484670.0\n",
       "94      2018  15 to 24 years       1683164.0  4542854.0\n",
       "95      2018  25 to 44 years       2171770.0  7645727.0\n",
       "\n",
       "[96 rows x 4 columns]"
      ],
      "text/html": "<div>\n<style scoped>\n    .dataframe tbody tr th:only-of-type {\n        vertical-align: middle;\n    }\n\n    .dataframe tbody tr th {\n        vertical-align: top;\n    }\n\n    .dataframe thead th {\n        text-align: right;\n    }\n</style>\n<table border=\"1\" class=\"dataframe\">\n  <thead>\n    <tr style=\"text-align: right;\">\n      <th></th>\n      <th>ref_date</th>\n      <th>age_group</th>\n      <th>value_cannabis</th>\n      <th>value_pop</th>\n    </tr>\n  </thead>\n  <tbody>\n    <tr>\n      <th>0</th>\n      <td>1971</td>\n      <td>15 to 24 years</td>\n      <td>1189603.0</td>\n      <td>4141006.0</td>\n    </tr>\n    <tr>\n      <th>1</th>\n      <td>1971</td>\n      <td>25 to 44 years</td>\n      <td>98434.0</td>\n      <td>4272310.0</td>\n    </tr>\n    <tr>\n      <th>2</th>\n      <td>1972</td>\n      <td>15 to 24 years</td>\n      <td>1306569.0</td>\n      <td>4211044.0</td>\n    </tr>\n    <tr>\n      <th>3</th>\n      <td>1972</td>\n      <td>25 to 44 years</td>\n      <td>117521.0</td>\n      <td>4422840.0</td>\n    </tr>\n    <tr>\n      <th>4</th>\n      <td>1973</td>\n      <td>15 to 24 years</td>\n      <td>1403415.0</td>\n      <td>4304699.0</td>\n    </tr>\n    <tr>\n      <th>...</th>\n      <td>...</td>\n      <td>...</td>\n      <td>...</td>\n      <td>...</td>\n    </tr>\n    <tr>\n      <th>91</th>\n      <td>2016</td>\n      <td>25 to 44 years</td>\n      <td>2013181.0</td>\n      <td>7364791.0</td>\n    </tr>\n    <tr>\n      <th>92</th>\n      <td>2017</td>\n      <td>15 to 24 years</td>\n      <td>1632955.0</td>\n      <td>4492017.0</td>\n    </tr>\n    <tr>\n      <th>93</th>\n      <td>2017</td>\n      <td>25 to 44 years</td>\n      <td>2104791.0</td>\n      <td>7484670.0</td>\n    </tr>\n    <tr>\n      <th>94</th>\n      <td>2018</td>\n      <td>15 to 24 years</td>\n      <td>1683164.0</td>\n      <td>4542854.0</td>\n    </tr>\n    <tr>\n      <th>95</th>\n      <td>2018</td>\n      <td>25 to 44 years</td>\n      <td>2171770.0</td>\n      <td>7645727.0</td>\n    </tr>\n  </tbody>\n</table>\n<p>96 rows × 4 columns</p>\n</div>"
     },
     "metadata": {},
     "execution_count": 109
    }
   ],
   "source": [
    "# Merge the two data sets\n",
    "merged_df = grouped_binned_cannabis.merge(grouped_binned_pop, on = ['ref_date', 'age_group'], how = 'inner', suffixes= ['_cannabis', '_pop'])\n",
    "merged_df"
   ]
  },
  {
   "cell_type": "code",
   "execution_count": 113,
   "metadata": {},
   "outputs": [],
   "source": [
    "age_15_24_df = merged_df.loc[merged_df.age_group == '15 to 24 years', :]\n",
    "age_25_44_df = merged_df.loc[merged_df.age_group == '25 to 44 years', :]\n",
    "age_45_65_df = merged_df.loc[merged_df.age_group == '45 to 64 years', :]\n"
   ]
  },
  {
   "cell_type": "code",
   "execution_count": null,
   "metadata": {},
   "outputs": [],
   "source": []
  }
 ]
}