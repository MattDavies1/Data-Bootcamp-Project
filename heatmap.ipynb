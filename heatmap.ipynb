{
 "metadata": {
  "language_info": {
   "codemirror_mode": {
    "name": "ipython",
    "version": 3
   },
   "file_extension": ".py",
   "mimetype": "text/x-python",
   "name": "python",
   "nbconvert_exporter": "python",
   "pygments_lexer": "ipython3",
   "version": "3.8.3-final"
  },
  "orig_nbformat": 2,
  "kernelspec": {
   "name": "python3",
   "display_name": "Python 3"
  }
 },
 "nbformat": 4,
 "nbformat_minor": 2,
 "cells": [
  {
   "cell_type": "code",
   "execution_count": null,
   "metadata": {},
   "outputs": [],
   "source": [
    "import pandas as pd\n",
    "import matplotlib.pyplot as plt\n",
    "import numpy as np\n",
    "import os"
   ]
  },
  {
   "cell_type": "code",
   "execution_count": null,
   "metadata": {},
   "outputs": [],
   "source": [
    "# Read in cannabis data set\n",
    "cannabis_data_path = os.path.join('Resources', 'cannabis_usage_1961_2018.csv')\n",
    "cannabis_data = pd.read_csv(cannabis_data_path)\n",
    "\n",
    "# Clean dataset variable names\n",
    "cannabis_data.columns = cannabis_data.columns.str.strip().str.lower().str.replace(' ', '_')\n",
    "cannabis_data.head()"
   ]
  },
  {
   "cell_type": "code",
   "execution_count": null,
   "metadata": {},
   "outputs": [],
   "source": [
    "# Drop erroneous variables in cannabis dataset\n",
    "cannabis_data = cannabis_data.drop(['geo', 'dguid', 'uom', 'uom_id', 'scalar_factor', 'scalar_id', 'vector', 'status', 'symbol', 'terminated', 'decimals'], axis=1)\n",
    "cannabis_data.head()"
   ]
  },
  {
   "cell_type": "code",
   "execution_count": null,
   "metadata": {},
   "outputs": [],
   "source": [
    "# Read in population data\n",
    "pop_data_path = os.path.join('Resources', 'demographic_data_canada_1971_2020.csv')\n",
    "pop_data = pd.read_csv(pop_data_path)\n",
    "\n",
    "# Clean dataset variable names\n",
    "pop_data.columns = pop_data.columns.str.strip().str.lower().str.replace(' ', '_')\n",
    "pop_data"
   ]
  },
  {
   "cell_type": "code",
   "execution_count": null,
   "metadata": {},
   "outputs": [],
   "source": [
    "# Drop erroneous variables in cannabis dataset\n",
    "pop_data = pop_data.drop(['geo', 'dguid', 'sex', 'uom_id', 'scalar_factor', 'scalar_id', 'vector', 'status', 'symbol', 'terminated', 'decimals'], axis=1)\n",
    "pop_data"
   ]
  },
  {
   "cell_type": "code",
   "execution_count": null,
   "metadata": {},
   "outputs": [],
   "source": [
    "# Drop erroneous rows for TOTALS in data set\n",
    "relevant_age_df = pop_data.loc[pop_data.age_group.isin([\n",
    " '15 to 19 years',\n",
    " '20 to 24 years',\n",
    " '25 to 29 years',\n",
    " '30 to 34 years',\n",
    " '35 to 39 years',\n",
    " '40 to 44 years',\n",
    " '45 to 49 years',\n",
    " '50 to 54 years',\n",
    " '55 to 59 years',\n",
    " '60 to 64 years',]), :]\n",
    "\n",
    "relevant_age_df"
   ]
  },
  {
   "cell_type": "code",
   "execution_count": null,
   "metadata": {},
   "outputs": [],
   "source": [
    "# Make dictionary to replace bin-values for rebinning\n",
    "population_groups = {\n",
    "    '15 to 19 years':'15 to 24 years',\n",
    "    '20 to 24 years':'15 to 24 years',\n",
    "    '25 to 29 years':'25 to 44 years',\n",
    "    '30 to 34 years':'25 to 44 years',\n",
    "    '35 to 39 years':'25 to 44 years',\n",
    "    '40 to 44 years':'45 to 64 years',\n",
    "    '45 to 49 years':'45 to 64 years',\n",
    "    '50 to 54 years':'45 to 64 years',\n",
    "    '55 to 59 years':'45 to 64 years',\n",
    "    '60 to 64 years':'45 to 64 years', \n",
    "}\n",
    "\n",
    "# Replace names in age_groups\n",
    "rebinned_pop_df = relevant_age_df.replace(population_groups)\n",
    "rebinned_pop_df.sort_values('ref_date')\n",
    "\n",
    "# Re-bin values\n",
    "grouped_binned_pop = rebinned_pop_df.groupby(['ref_date', 'age_group']).value.sum()\n",
    "grouped_binned_pop = pd.DataFrame(grouped_binned_pop)\n",
    "grouped_binned_pop = grouped_binned_pop.reset_index()\n",
    "grouped_binned_pop"
   ]
  },
  {
   "cell_type": "code",
   "execution_count": null,
   "metadata": {},
   "outputs": [],
   "source": [
    "# Remove erroneous rows from cannabis DataFrame\n",
    "annual_age_consumption = cannabis_data.loc[(cannabis_data.frequency_of_use == 'Total, all frequencies') & (cannabis_data.prevalence == 'Consuming population of cannabis') & (cannabis_data.age_group != '15 years and over') & (cannabis_data.age_group != '65 years and over'),:]\n",
    "annual_age_consumption = annual_age_consumption.reset_index(drop=True)\n",
    "\n",
    "# Make dictionary for re-binning\n",
    "age_groups = {\n",
    "    '15 to 17 years ':'15 to 24 years',\n",
    "    '18 to 24 years':'15 to 24 years'\n",
    "}\n",
    "\n",
    "# Replace names in age_group\n",
    "rebinned_cannabis_df = annual_age_consumption.replace(age_groups)\n",
    "\n",
    "# Re-bin values\n",
    "grouped_binned_cannabis = rebinned_cannabis_df.groupby(['ref_date','age_group']).value.sum()\n",
    "grouped_binned_cannabis = pd.DataFrame(grouped_binned_cannabis)\n",
    "grouped_binned_cannabis = grouped_binned_cannabis.reset_index()\n",
    "\n",
    "grouped_binned_cannabis"
   ]
  },
  {
   "cell_type": "code",
   "execution_count": null,
   "metadata": {},
   "outputs": [],
   "source": [
    "# Merge the two data sets\n",
    "merged_df = grouped_binned_cannabis.merge(grouped_binned_pop, on = ['ref_date', 'age_group'], how = 'inner', suffixes= ['_cannabis', '_pop'])\n",
    "merged_df"
   ]
  },
  {
   "cell_type": "code",
   "execution_count": null,
   "metadata": {},
   "outputs": [],
   "source": [
    "age_15_24_df = merged_df.loc[merged_df.age_group == '15 to 24 years', :]\n",
    "age_25_44_df = merged_df.loc[merged_df.age_group == '25 to 44 years', :]\n",
    "age_45_64_df = merged_df.loc[merged_df.age_group == '45 to 64 years', :]\n",
    "\n",
    "plt.plot(age_15_24_df.ref_date, age_15_24_df.value_cannabis/age_15_24_df.value_pop)\n",
    "plt.plot(age_25_44_df.ref_date, age_25_44_df.value_cannabis/age_25_44_df.value_pop)\n",
    "plt.plot(age_45_64_df.ref_date, age_45_64_df.value_cannabis/age_45_64_df.value_pop)"
   ]
  },
  {
   "cell_type": "code",
   "execution_count": null,
   "metadata": {},
   "outputs": [],
   "source": [
    "year = list(merged_df.ref_date.unique())\n",
    "\n",
    "population_by_age_group = {\n",
    "    '15 to 24 years': list(age_15_24_df.value_cannabis),\n",
    "    '15 to 44 years': list(age_25_44_df.value_cannabis),\n",
    "    '45 to 64 years': list(age_45_64_df.value_cannabis),\n",
    "}\n",
    "\n",
    "fig, ax = plt.subplots()\n",
    "ax.stackplot(year, population_by_age_group.values(),\n",
    "             labels=population_by_age_group.keys())\n",
    "ax.legend(loc='upper left')\n",
    "ax.set_title('number of canabis Users over time')\n",
    "ax.set_xlabel('Year')\n",
    "ax.set_ylabel('Number of people (millions)')\n",
    "\n",
    "plt.show()"
   ]
  },
  {
   "cell_type": "code",
   "execution_count": null,
   "metadata": {},
   "outputs": [],
   "source": [
    "year = list(merged_df.ref_date.unique())\n",
    "\n",
    "population_by_age_group = {\n",
    "    '15 to 24 years': list(age_15_24_df.value_pop),\n",
    "    '15 to 44 years': list(age_25_44_df.value_pop),\n",
    "    '45 to 64 years': list(age_45_64_df.value_pop),\n",
    "}\n",
    "\n",
    "fig, ax = plt.subplots()\n",
    "ax.stackplot(year, population_by_age_group.values(),\n",
    "             labels=population_by_age_group.keys())\n",
    "ax.legend(loc='upper left')\n",
    "ax.set_title('number of people over time')\n",
    "ax.set_xlabel('Year')\n",
    "ax.set_ylabel('Number of people (ten millions)')\n",
    "\n",
    "plt.show()"
   ]
  },
  {
   "cell_type": "code",
   "execution_count": null,
   "metadata": {},
   "outputs": [],
   "source": [
    "year = list(merged_df.ref_date.unique())\n",
    "\n",
    "population_by_age_group = {\n",
    "    '15 to 24 years': list(age_15_24_df.value_cannabis/age_15_24_df.value_pop),\n",
    "    '15 to 44 years': list(age_25_44_df.value_cannabis/age_25_44_df.value_pop),\n",
    "    '45 to 64 years': list(age_45_64_df.value_cannabis/age_45_64_df.value_pop),\n",
    "}\n",
    "\n",
    "fig, ax = plt.subplots()\n",
    "ax.stackplot(year, population_by_age_group.values(),\n",
    "             labels=population_by_age_group.keys())\n",
    "ax.legend(loc='upper left')\n",
    "ax.set_title('Percent of population using Cannabis')\n",
    "ax.set_xlabel('Year')\n",
    "ax.set_ylabel('Percent of total population')\n",
    "\n",
    "plt.show()"
   ]
  },
  {
   "cell_type": "code",
   "execution_count": null,
   "metadata": {},
   "outputs": [],
   "source": [
    "plt.scatter(merged_df.value_cannabis/merged_df.value_pop, merged_df.value_cannabis)"
   ]
  },
  {
   "cell_type": "code",
   "execution_count": null,
   "metadata": {},
   "outputs": [],
   "source": [
    "pct_change = []\n",
    "pct_change.append(0)\n",
    "\n",
    "value_storage = []\n",
    "\n",
    "for index, value in age_15_24_df.iterrows():\n",
    "    value_storage.append(value.value_cannabis)\n",
    "\n",
    "for i in range(1, len(value_storage)):\n",
    "    a = value_storage[i]\n",
    "    b = value_storage[i - 1]\n",
    "    pct_change.append(a - b)\n",
    "\n",
    "plt.plot(age_15_24_df.value_cannabis, pct_change)"
   ]
  },
  {
   "cell_type": "code",
   "execution_count": null,
   "metadata": {},
   "outputs": [],
   "source": [
    "pct_change = []\n",
    "pct_change.append(0)\n",
    "\n",
    "value_storage = []\n",
    "\n",
    "for index, value in age_25_44_df.iterrows():\n",
    "    value_storage.append(value.value_cannabis)\n",
    "\n",
    "for i in range(1, len(value_storage)):\n",
    "    a = value_storage[i]\n",
    "    b = value_storage[i - 1]\n",
    "    pct_change.append(a - b)\n",
    "\n",
    "plt.plot(age_15_24_df.value_cannabis, pct_change)"
   ]
  },
  {
   "cell_type": "code",
   "execution_count": null,
   "metadata": {},
   "outputs": [],
   "source": [
    "pct_change = []\n",
    "pct_change.append(0)\n",
    "\n",
    "value_storage = []\n",
    "\n",
    "for index, value in age_45_64_df.iterrows():\n",
    "    value_storage.append(value.value_cannabis)\n",
    "\n",
    "for i in range(1, len(value_storage)):\n",
    "    a = value_storage[i]\n",
    "    b = value_storage[i - 1]\n",
    "    pct_change.append(a - b)\n",
    "\n",
    "plt.plot(age_15_24_df.value_cannabis, pct_change)"
   ]
  },
  {
   "cell_type": "code",
   "execution_count": null,
   "metadata": {},
   "outputs": [],
   "source": []
  }
 ]
}