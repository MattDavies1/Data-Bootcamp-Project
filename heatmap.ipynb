{
 "metadata": {
  "language_info": {
   "codemirror_mode": {
    "name": "ipython",
    "version": 3
   },
   "file_extension": ".py",
   "mimetype": "text/x-python",
   "name": "python",
   "nbconvert_exporter": "python",
   "pygments_lexer": "ipython3",
   "version": "3.8.3-final"
  },
  "orig_nbformat": 2,
  "kernelspec": {
   "name": "python3",
   "display_name": "Python 3"
  }
 },
 "nbformat": 4,
 "nbformat_minor": 2,
 "cells": [
  {
   "cell_type": "code",
   "execution_count": 10,
   "metadata": {},
   "outputs": [],
   "source": [
    "import pandas as pd\n",
    "import matplotlib.pyplot as plt\n",
    "import numpy as np\n",
    "import os"
   ]
  },
  {
   "cell_type": "code",
   "execution_count": 11,
   "metadata": {},
   "outputs": [
    {
     "output_type": "execute_result",
     "data": {
      "text/plain": [
       "   ref_date     geo           dguid                        prevalence  \\\n",
       "0      1961  Canada  2016A000011124  Consuming population of cannabis   \n",
       "1      1961  Canada  2016A000011124  Consuming population of cannabis   \n",
       "2      1961  Canada  2016A000011124  Consuming population of cannabis   \n",
       "3      1961  Canada  2016A000011124  Consuming population of cannabis   \n",
       "4      1961  Canada  2016A000011124  Consuming population of cannabis   \n",
       "\n",
       "           age_group                       frequency_of_use      uom  uom_id  \\\n",
       "0  15 years and over                 Total, all frequencies  Persons     249   \n",
       "1  15 years and over                                   Once  Persons     249   \n",
       "2  15 years and over               Less than once per month  Persons     249   \n",
       "3  15 years and over           One to three times per month  Persons     249   \n",
       "4  15 years and over  At least once a week (excludes daily)  Persons     249   \n",
       "\n",
       "  scalar_factor  scalar_id       vector coordinate     value status  symbol  \\\n",
       "0        units           0  v1001799865    1.1.1.1  277512.0    NaN     NaN   \n",
       "1        units           0  v1001799866    1.1.1.2   17616.0    NaN     NaN   \n",
       "2        units           0  v1001799867    1.1.1.3   97880.0    NaN     NaN   \n",
       "3        units           0  v1001799868    1.1.1.4   51722.0    NaN     NaN   \n",
       "4        units           0  v1001799869    1.1.1.5   70428.0    NaN     NaN   \n",
       "\n",
       "   terminated  decimals  \n",
       "0         NaN         0  \n",
       "1         NaN         0  \n",
       "2         NaN         0  \n",
       "3         NaN         0  \n",
       "4         NaN         0  "
      ],
      "text/html": "<div>\n<style scoped>\n    .dataframe tbody tr th:only-of-type {\n        vertical-align: middle;\n    }\n\n    .dataframe tbody tr th {\n        vertical-align: top;\n    }\n\n    .dataframe thead th {\n        text-align: right;\n    }\n</style>\n<table border=\"1\" class=\"dataframe\">\n  <thead>\n    <tr style=\"text-align: right;\">\n      <th></th>\n      <th>ref_date</th>\n      <th>geo</th>\n      <th>dguid</th>\n      <th>prevalence</th>\n      <th>age_group</th>\n      <th>frequency_of_use</th>\n      <th>uom</th>\n      <th>uom_id</th>\n      <th>scalar_factor</th>\n      <th>scalar_id</th>\n      <th>vector</th>\n      <th>coordinate</th>\n      <th>value</th>\n      <th>status</th>\n      <th>symbol</th>\n      <th>terminated</th>\n      <th>decimals</th>\n    </tr>\n  </thead>\n  <tbody>\n    <tr>\n      <th>0</th>\n      <td>1961</td>\n      <td>Canada</td>\n      <td>2016A000011124</td>\n      <td>Consuming population of cannabis</td>\n      <td>15 years and over</td>\n      <td>Total, all frequencies</td>\n      <td>Persons</td>\n      <td>249</td>\n      <td>units</td>\n      <td>0</td>\n      <td>v1001799865</td>\n      <td>1.1.1.1</td>\n      <td>277512.0</td>\n      <td>NaN</td>\n      <td>NaN</td>\n      <td>NaN</td>\n      <td>0</td>\n    </tr>\n    <tr>\n      <th>1</th>\n      <td>1961</td>\n      <td>Canada</td>\n      <td>2016A000011124</td>\n      <td>Consuming population of cannabis</td>\n      <td>15 years and over</td>\n      <td>Once</td>\n      <td>Persons</td>\n      <td>249</td>\n      <td>units</td>\n      <td>0</td>\n      <td>v1001799866</td>\n      <td>1.1.1.2</td>\n      <td>17616.0</td>\n      <td>NaN</td>\n      <td>NaN</td>\n      <td>NaN</td>\n      <td>0</td>\n    </tr>\n    <tr>\n      <th>2</th>\n      <td>1961</td>\n      <td>Canada</td>\n      <td>2016A000011124</td>\n      <td>Consuming population of cannabis</td>\n      <td>15 years and over</td>\n      <td>Less than once per month</td>\n      <td>Persons</td>\n      <td>249</td>\n      <td>units</td>\n      <td>0</td>\n      <td>v1001799867</td>\n      <td>1.1.1.3</td>\n      <td>97880.0</td>\n      <td>NaN</td>\n      <td>NaN</td>\n      <td>NaN</td>\n      <td>0</td>\n    </tr>\n    <tr>\n      <th>3</th>\n      <td>1961</td>\n      <td>Canada</td>\n      <td>2016A000011124</td>\n      <td>Consuming population of cannabis</td>\n      <td>15 years and over</td>\n      <td>One to three times per month</td>\n      <td>Persons</td>\n      <td>249</td>\n      <td>units</td>\n      <td>0</td>\n      <td>v1001799868</td>\n      <td>1.1.1.4</td>\n      <td>51722.0</td>\n      <td>NaN</td>\n      <td>NaN</td>\n      <td>NaN</td>\n      <td>0</td>\n    </tr>\n    <tr>\n      <th>4</th>\n      <td>1961</td>\n      <td>Canada</td>\n      <td>2016A000011124</td>\n      <td>Consuming population of cannabis</td>\n      <td>15 years and over</td>\n      <td>At least once a week (excludes daily)</td>\n      <td>Persons</td>\n      <td>249</td>\n      <td>units</td>\n      <td>0</td>\n      <td>v1001799869</td>\n      <td>1.1.1.5</td>\n      <td>70428.0</td>\n      <td>NaN</td>\n      <td>NaN</td>\n      <td>NaN</td>\n      <td>0</td>\n    </tr>\n  </tbody>\n</table>\n</div>"
     },
     "metadata": {},
     "execution_count": 11
    }
   ],
   "source": [
    "# Read in cannabis data set\n",
    "cannabis_data_path = os.path.join('Resources', 'cannabis_usage_1961_2018.csv')\n",
    "cannabis_data = pd.read_csv(cannabis_data_path)\n",
    "\n",
    "# Clean dataset variable names\n",
    "cannabis_data.columns = cannabis_data.columns.str.strip().str.lower().str.replace(' ', '_')\n",
    "cannabis_data.head()"
   ]
  },
  {
   "cell_type": "code",
   "execution_count": 12,
   "metadata": {},
   "outputs": [
    {
     "output_type": "execute_result",
     "data": {
      "text/plain": [
       "   ref_date                        prevalence          age_group  \\\n",
       "0      1961  Consuming population of cannabis  15 years and over   \n",
       "1      1961  Consuming population of cannabis  15 years and over   \n",
       "2      1961  Consuming population of cannabis  15 years and over   \n",
       "3      1961  Consuming population of cannabis  15 years and over   \n",
       "4      1961  Consuming population of cannabis  15 years and over   \n",
       "\n",
       "                        frequency_of_use coordinate     value  \n",
       "0                 Total, all frequencies    1.1.1.1  277512.0  \n",
       "1                                   Once    1.1.1.2   17616.0  \n",
       "2               Less than once per month    1.1.1.3   97880.0  \n",
       "3           One to three times per month    1.1.1.4   51722.0  \n",
       "4  At least once a week (excludes daily)    1.1.1.5   70428.0  "
      ],
      "text/html": "<div>\n<style scoped>\n    .dataframe tbody tr th:only-of-type {\n        vertical-align: middle;\n    }\n\n    .dataframe tbody tr th {\n        vertical-align: top;\n    }\n\n    .dataframe thead th {\n        text-align: right;\n    }\n</style>\n<table border=\"1\" class=\"dataframe\">\n  <thead>\n    <tr style=\"text-align: right;\">\n      <th></th>\n      <th>ref_date</th>\n      <th>prevalence</th>\n      <th>age_group</th>\n      <th>frequency_of_use</th>\n      <th>coordinate</th>\n      <th>value</th>\n    </tr>\n  </thead>\n  <tbody>\n    <tr>\n      <th>0</th>\n      <td>1961</td>\n      <td>Consuming population of cannabis</td>\n      <td>15 years and over</td>\n      <td>Total, all frequencies</td>\n      <td>1.1.1.1</td>\n      <td>277512.0</td>\n    </tr>\n    <tr>\n      <th>1</th>\n      <td>1961</td>\n      <td>Consuming population of cannabis</td>\n      <td>15 years and over</td>\n      <td>Once</td>\n      <td>1.1.1.2</td>\n      <td>17616.0</td>\n    </tr>\n    <tr>\n      <th>2</th>\n      <td>1961</td>\n      <td>Consuming population of cannabis</td>\n      <td>15 years and over</td>\n      <td>Less than once per month</td>\n      <td>1.1.1.3</td>\n      <td>97880.0</td>\n    </tr>\n    <tr>\n      <th>3</th>\n      <td>1961</td>\n      <td>Consuming population of cannabis</td>\n      <td>15 years and over</td>\n      <td>One to three times per month</td>\n      <td>1.1.1.4</td>\n      <td>51722.0</td>\n    </tr>\n    <tr>\n      <th>4</th>\n      <td>1961</td>\n      <td>Consuming population of cannabis</td>\n      <td>15 years and over</td>\n      <td>At least once a week (excludes daily)</td>\n      <td>1.1.1.5</td>\n      <td>70428.0</td>\n    </tr>\n  </tbody>\n</table>\n</div>"
     },
     "metadata": {},
     "execution_count": 12
    }
   ],
   "source": [
    "# Drop erroneous variables in cannabis dataset\n",
    "cannabis_data = cannabis_data.drop(['geo', 'dguid', 'uom', 'uom_id', 'scalar_factor', 'scalar_id', 'vector', 'status', 'symbol', 'terminated', 'decimals'], axis=1)\n",
    "cannabis_data.head()"
   ]
  },
  {
   "cell_type": "code",
   "execution_count": 13,
   "metadata": {},
   "outputs": [
    {
     "output_type": "execute_result",
     "data": {
      "text/plain": [
       "      ref_date     geo           dguid         sex   age_group      uom  \\\n",
       "0         1971  Canada  2016A000011124  Both sexes    All ages  Persons   \n",
       "1         1972  Canada  2016A000011124  Both sexes    All ages  Persons   \n",
       "2         1973  Canada  2016A000011124  Both sexes    All ages  Persons   \n",
       "3         1974  Canada  2016A000011124  Both sexes    All ages  Persons   \n",
       "4         1975  Canada  2016A000011124  Both sexes    All ages  Persons   \n",
       "...        ...     ...             ...         ...         ...      ...   \n",
       "1085      2016  Canada  2016A000011124  Both sexes  Median age    Years   \n",
       "1086      2017  Canada  2016A000011124  Both sexes  Median age    Years   \n",
       "1087      2018  Canada  2016A000011124  Both sexes  Median age    Years   \n",
       "1088      2019  Canada  2016A000011124  Both sexes  Median age    Years   \n",
       "1089      2020  Canada  2016A000011124  Both sexes  Median age    Years   \n",
       "\n",
       "      uom_id scalar_factor  scalar_id   vector coordinate       value status  \\\n",
       "0        249         units          0  v466668      1.1.1  21962032.0    NaN   \n",
       "1        249         units          0  v466668      1.1.1  22218463.0    NaN   \n",
       "2        249         units          0  v466668      1.1.1  22491777.0    NaN   \n",
       "3        249         units          0  v466668      1.1.1  22807969.0    NaN   \n",
       "4        249         units          0  v466668      1.1.1  23143275.0    NaN   \n",
       "...      ...           ...        ...      ...        ...         ...    ...   \n",
       "1085     308         units          0  v466689    1.1.105        40.7    NaN   \n",
       "1086     308         units          0  v466689    1.1.105        40.8    NaN   \n",
       "1087     308         units          0  v466689    1.1.105        40.8    NaN   \n",
       "1088     308         units          0  v466689    1.1.105        40.8    NaN   \n",
       "1089     308         units          0  v466689    1.1.105        40.9    NaN   \n",
       "\n",
       "      symbol  terminated  decimals  \n",
       "0        NaN         NaN         0  \n",
       "1        NaN         NaN         0  \n",
       "2        NaN         NaN         0  \n",
       "3        NaN         NaN         0  \n",
       "4        NaN         NaN         0  \n",
       "...      ...         ...       ...  \n",
       "1085     NaN         NaN         1  \n",
       "1086     NaN         NaN         1  \n",
       "1087     NaN         NaN         1  \n",
       "1088     NaN         NaN         1  \n",
       "1089     NaN         NaN         1  \n",
       "\n",
       "[1090 rows x 16 columns]"
      ],
      "text/html": "<div>\n<style scoped>\n    .dataframe tbody tr th:only-of-type {\n        vertical-align: middle;\n    }\n\n    .dataframe tbody tr th {\n        vertical-align: top;\n    }\n\n    .dataframe thead th {\n        text-align: right;\n    }\n</style>\n<table border=\"1\" class=\"dataframe\">\n  <thead>\n    <tr style=\"text-align: right;\">\n      <th></th>\n      <th>ref_date</th>\n      <th>geo</th>\n      <th>dguid</th>\n      <th>sex</th>\n      <th>age_group</th>\n      <th>uom</th>\n      <th>uom_id</th>\n      <th>scalar_factor</th>\n      <th>scalar_id</th>\n      <th>vector</th>\n      <th>coordinate</th>\n      <th>value</th>\n      <th>status</th>\n      <th>symbol</th>\n      <th>terminated</th>\n      <th>decimals</th>\n    </tr>\n  </thead>\n  <tbody>\n    <tr>\n      <th>0</th>\n      <td>1971</td>\n      <td>Canada</td>\n      <td>2016A000011124</td>\n      <td>Both sexes</td>\n      <td>All ages</td>\n      <td>Persons</td>\n      <td>249</td>\n      <td>units</td>\n      <td>0</td>\n      <td>v466668</td>\n      <td>1.1.1</td>\n      <td>21962032.0</td>\n      <td>NaN</td>\n      <td>NaN</td>\n      <td>NaN</td>\n      <td>0</td>\n    </tr>\n    <tr>\n      <th>1</th>\n      <td>1972</td>\n      <td>Canada</td>\n      <td>2016A000011124</td>\n      <td>Both sexes</td>\n      <td>All ages</td>\n      <td>Persons</td>\n      <td>249</td>\n      <td>units</td>\n      <td>0</td>\n      <td>v466668</td>\n      <td>1.1.1</td>\n      <td>22218463.0</td>\n      <td>NaN</td>\n      <td>NaN</td>\n      <td>NaN</td>\n      <td>0</td>\n    </tr>\n    <tr>\n      <th>2</th>\n      <td>1973</td>\n      <td>Canada</td>\n      <td>2016A000011124</td>\n      <td>Both sexes</td>\n      <td>All ages</td>\n      <td>Persons</td>\n      <td>249</td>\n      <td>units</td>\n      <td>0</td>\n      <td>v466668</td>\n      <td>1.1.1</td>\n      <td>22491777.0</td>\n      <td>NaN</td>\n      <td>NaN</td>\n      <td>NaN</td>\n      <td>0</td>\n    </tr>\n    <tr>\n      <th>3</th>\n      <td>1974</td>\n      <td>Canada</td>\n      <td>2016A000011124</td>\n      <td>Both sexes</td>\n      <td>All ages</td>\n      <td>Persons</td>\n      <td>249</td>\n      <td>units</td>\n      <td>0</td>\n      <td>v466668</td>\n      <td>1.1.1</td>\n      <td>22807969.0</td>\n      <td>NaN</td>\n      <td>NaN</td>\n      <td>NaN</td>\n      <td>0</td>\n    </tr>\n    <tr>\n      <th>4</th>\n      <td>1975</td>\n      <td>Canada</td>\n      <td>2016A000011124</td>\n      <td>Both sexes</td>\n      <td>All ages</td>\n      <td>Persons</td>\n      <td>249</td>\n      <td>units</td>\n      <td>0</td>\n      <td>v466668</td>\n      <td>1.1.1</td>\n      <td>23143275.0</td>\n      <td>NaN</td>\n      <td>NaN</td>\n      <td>NaN</td>\n      <td>0</td>\n    </tr>\n    <tr>\n      <th>...</th>\n      <td>...</td>\n      <td>...</td>\n      <td>...</td>\n      <td>...</td>\n      <td>...</td>\n      <td>...</td>\n      <td>...</td>\n      <td>...</td>\n      <td>...</td>\n      <td>...</td>\n      <td>...</td>\n      <td>...</td>\n      <td>...</td>\n      <td>...</td>\n      <td>...</td>\n      <td>...</td>\n    </tr>\n    <tr>\n      <th>1085</th>\n      <td>2016</td>\n      <td>Canada</td>\n      <td>2016A000011124</td>\n      <td>Both sexes</td>\n      <td>Median age</td>\n      <td>Years</td>\n      <td>308</td>\n      <td>units</td>\n      <td>0</td>\n      <td>v466689</td>\n      <td>1.1.105</td>\n      <td>40.7</td>\n      <td>NaN</td>\n      <td>NaN</td>\n      <td>NaN</td>\n      <td>1</td>\n    </tr>\n    <tr>\n      <th>1086</th>\n      <td>2017</td>\n      <td>Canada</td>\n      <td>2016A000011124</td>\n      <td>Both sexes</td>\n      <td>Median age</td>\n      <td>Years</td>\n      <td>308</td>\n      <td>units</td>\n      <td>0</td>\n      <td>v466689</td>\n      <td>1.1.105</td>\n      <td>40.8</td>\n      <td>NaN</td>\n      <td>NaN</td>\n      <td>NaN</td>\n      <td>1</td>\n    </tr>\n    <tr>\n      <th>1087</th>\n      <td>2018</td>\n      <td>Canada</td>\n      <td>2016A000011124</td>\n      <td>Both sexes</td>\n      <td>Median age</td>\n      <td>Years</td>\n      <td>308</td>\n      <td>units</td>\n      <td>0</td>\n      <td>v466689</td>\n      <td>1.1.105</td>\n      <td>40.8</td>\n      <td>NaN</td>\n      <td>NaN</td>\n      <td>NaN</td>\n      <td>1</td>\n    </tr>\n    <tr>\n      <th>1088</th>\n      <td>2019</td>\n      <td>Canada</td>\n      <td>2016A000011124</td>\n      <td>Both sexes</td>\n      <td>Median age</td>\n      <td>Years</td>\n      <td>308</td>\n      <td>units</td>\n      <td>0</td>\n      <td>v466689</td>\n      <td>1.1.105</td>\n      <td>40.8</td>\n      <td>NaN</td>\n      <td>NaN</td>\n      <td>NaN</td>\n      <td>1</td>\n    </tr>\n    <tr>\n      <th>1089</th>\n      <td>2020</td>\n      <td>Canada</td>\n      <td>2016A000011124</td>\n      <td>Both sexes</td>\n      <td>Median age</td>\n      <td>Years</td>\n      <td>308</td>\n      <td>units</td>\n      <td>0</td>\n      <td>v466689</td>\n      <td>1.1.105</td>\n      <td>40.9</td>\n      <td>NaN</td>\n      <td>NaN</td>\n      <td>NaN</td>\n      <td>1</td>\n    </tr>\n  </tbody>\n</table>\n<p>1090 rows × 16 columns</p>\n</div>"
     },
     "metadata": {},
     "execution_count": 13
    }
   ],
   "source": [
    "# Read in population data\n",
    "pop_data_path = os.path.join('Resources', 'demographic_data_canada_1971_2020.csv')\n",
    "pop_data = pd.read_csv(pop_data_path)\n",
    "\n",
    "# Clean dataset variable names\n",
    "pop_data.columns = pop_data.columns.str.strip().str.lower().str.replace(' ', '_')\n",
    "pop_data"
   ]
  },
  {
   "cell_type": "code",
   "execution_count": 14,
   "metadata": {},
   "outputs": [
    {
     "output_type": "execute_result",
     "data": {
      "text/plain": [
       "      ref_date   age_group      uom coordinate       value\n",
       "0         1971    All ages  Persons      1.1.1  21962032.0\n",
       "1         1972    All ages  Persons      1.1.1  22218463.0\n",
       "2         1973    All ages  Persons      1.1.1  22491777.0\n",
       "3         1974    All ages  Persons      1.1.1  22807969.0\n",
       "4         1975    All ages  Persons      1.1.1  23143275.0\n",
       "...        ...         ...      ...        ...         ...\n",
       "1085      2016  Median age    Years    1.1.105        40.7\n",
       "1086      2017  Median age    Years    1.1.105        40.8\n",
       "1087      2018  Median age    Years    1.1.105        40.8\n",
       "1088      2019  Median age    Years    1.1.105        40.8\n",
       "1089      2020  Median age    Years    1.1.105        40.9\n",
       "\n",
       "[1090 rows x 5 columns]"
      ],
      "text/html": "<div>\n<style scoped>\n    .dataframe tbody tr th:only-of-type {\n        vertical-align: middle;\n    }\n\n    .dataframe tbody tr th {\n        vertical-align: top;\n    }\n\n    .dataframe thead th {\n        text-align: right;\n    }\n</style>\n<table border=\"1\" class=\"dataframe\">\n  <thead>\n    <tr style=\"text-align: right;\">\n      <th></th>\n      <th>ref_date</th>\n      <th>age_group</th>\n      <th>uom</th>\n      <th>coordinate</th>\n      <th>value</th>\n    </tr>\n  </thead>\n  <tbody>\n    <tr>\n      <th>0</th>\n      <td>1971</td>\n      <td>All ages</td>\n      <td>Persons</td>\n      <td>1.1.1</td>\n      <td>21962032.0</td>\n    </tr>\n    <tr>\n      <th>1</th>\n      <td>1972</td>\n      <td>All ages</td>\n      <td>Persons</td>\n      <td>1.1.1</td>\n      <td>22218463.0</td>\n    </tr>\n    <tr>\n      <th>2</th>\n      <td>1973</td>\n      <td>All ages</td>\n      <td>Persons</td>\n      <td>1.1.1</td>\n      <td>22491777.0</td>\n    </tr>\n    <tr>\n      <th>3</th>\n      <td>1974</td>\n      <td>All ages</td>\n      <td>Persons</td>\n      <td>1.1.1</td>\n      <td>22807969.0</td>\n    </tr>\n    <tr>\n      <th>4</th>\n      <td>1975</td>\n      <td>All ages</td>\n      <td>Persons</td>\n      <td>1.1.1</td>\n      <td>23143275.0</td>\n    </tr>\n    <tr>\n      <th>...</th>\n      <td>...</td>\n      <td>...</td>\n      <td>...</td>\n      <td>...</td>\n      <td>...</td>\n    </tr>\n    <tr>\n      <th>1085</th>\n      <td>2016</td>\n      <td>Median age</td>\n      <td>Years</td>\n      <td>1.1.105</td>\n      <td>40.7</td>\n    </tr>\n    <tr>\n      <th>1086</th>\n      <td>2017</td>\n      <td>Median age</td>\n      <td>Years</td>\n      <td>1.1.105</td>\n      <td>40.8</td>\n    </tr>\n    <tr>\n      <th>1087</th>\n      <td>2018</td>\n      <td>Median age</td>\n      <td>Years</td>\n      <td>1.1.105</td>\n      <td>40.8</td>\n    </tr>\n    <tr>\n      <th>1088</th>\n      <td>2019</td>\n      <td>Median age</td>\n      <td>Years</td>\n      <td>1.1.105</td>\n      <td>40.8</td>\n    </tr>\n    <tr>\n      <th>1089</th>\n      <td>2020</td>\n      <td>Median age</td>\n      <td>Years</td>\n      <td>1.1.105</td>\n      <td>40.9</td>\n    </tr>\n  </tbody>\n</table>\n<p>1090 rows × 5 columns</p>\n</div>"
     },
     "metadata": {},
     "execution_count": 14
    }
   ],
   "source": [
    "# Drop erroneous variables in cannabis dataset\n",
    "pop_data = pop_data.drop(['geo', 'dguid', 'sex', 'uom_id', 'scalar_factor', 'scalar_id', 'vector', 'status', 'symbol', 'terminated', 'decimals'], axis=1)\n",
    "pop_data"
   ]
  },
  {
   "cell_type": "code",
   "execution_count": 15,
   "metadata": {},
   "outputs": [
    {
     "output_type": "execute_result",
     "data": {
      "text/plain": [
       "     ref_date       age_group      uom coordinate      value\n",
       "200      1971  15 to 19 years  Persons     1.1.25  2164092.0\n",
       "201      1972  15 to 19 years  Persons     1.1.25  2221277.0\n",
       "202      1973  15 to 19 years  Persons     1.1.25  2272006.0\n",
       "203      1974  15 to 19 years  Persons     1.1.25  2314170.0\n",
       "204      1975  15 to 19 years  Persons     1.1.25  2347857.0\n",
       "..        ...             ...      ...        ...        ...\n",
       "695      2016  60 to 64 years  Persons     1.1.79  2313160.0\n",
       "696      2017  60 to 64 years  Persons     1.1.79  2388059.0\n",
       "697      2018  60 to 64 years  Persons     1.1.79  2457490.0\n",
       "698      2019  60 to 64 years  Persons     1.1.79  2513706.0\n",
       "699      2020  60 to 64 years  Persons     1.1.79  2560241.0\n",
       "\n",
       "[500 rows x 5 columns]"
      ],
      "text/html": "<div>\n<style scoped>\n    .dataframe tbody tr th:only-of-type {\n        vertical-align: middle;\n    }\n\n    .dataframe tbody tr th {\n        vertical-align: top;\n    }\n\n    .dataframe thead th {\n        text-align: right;\n    }\n</style>\n<table border=\"1\" class=\"dataframe\">\n  <thead>\n    <tr style=\"text-align: right;\">\n      <th></th>\n      <th>ref_date</th>\n      <th>age_group</th>\n      <th>uom</th>\n      <th>coordinate</th>\n      <th>value</th>\n    </tr>\n  </thead>\n  <tbody>\n    <tr>\n      <th>200</th>\n      <td>1971</td>\n      <td>15 to 19 years</td>\n      <td>Persons</td>\n      <td>1.1.25</td>\n      <td>2164092.0</td>\n    </tr>\n    <tr>\n      <th>201</th>\n      <td>1972</td>\n      <td>15 to 19 years</td>\n      <td>Persons</td>\n      <td>1.1.25</td>\n      <td>2221277.0</td>\n    </tr>\n    <tr>\n      <th>202</th>\n      <td>1973</td>\n      <td>15 to 19 years</td>\n      <td>Persons</td>\n      <td>1.1.25</td>\n      <td>2272006.0</td>\n    </tr>\n    <tr>\n      <th>203</th>\n      <td>1974</td>\n      <td>15 to 19 years</td>\n      <td>Persons</td>\n      <td>1.1.25</td>\n      <td>2314170.0</td>\n    </tr>\n    <tr>\n      <th>204</th>\n      <td>1975</td>\n      <td>15 to 19 years</td>\n      <td>Persons</td>\n      <td>1.1.25</td>\n      <td>2347857.0</td>\n    </tr>\n    <tr>\n      <th>...</th>\n      <td>...</td>\n      <td>...</td>\n      <td>...</td>\n      <td>...</td>\n      <td>...</td>\n    </tr>\n    <tr>\n      <th>695</th>\n      <td>2016</td>\n      <td>60 to 64 years</td>\n      <td>Persons</td>\n      <td>1.1.79</td>\n      <td>2313160.0</td>\n    </tr>\n    <tr>\n      <th>696</th>\n      <td>2017</td>\n      <td>60 to 64 years</td>\n      <td>Persons</td>\n      <td>1.1.79</td>\n      <td>2388059.0</td>\n    </tr>\n    <tr>\n      <th>697</th>\n      <td>2018</td>\n      <td>60 to 64 years</td>\n      <td>Persons</td>\n      <td>1.1.79</td>\n      <td>2457490.0</td>\n    </tr>\n    <tr>\n      <th>698</th>\n      <td>2019</td>\n      <td>60 to 64 years</td>\n      <td>Persons</td>\n      <td>1.1.79</td>\n      <td>2513706.0</td>\n    </tr>\n    <tr>\n      <th>699</th>\n      <td>2020</td>\n      <td>60 to 64 years</td>\n      <td>Persons</td>\n      <td>1.1.79</td>\n      <td>2560241.0</td>\n    </tr>\n  </tbody>\n</table>\n<p>500 rows × 5 columns</p>\n</div>"
     },
     "metadata": {},
     "execution_count": 15
    }
   ],
   "source": [
    "# Drop erroneous rows in data set\n",
    "relevant_age_df = pop_data.loc[pop_data.age_group.isin([\n",
    " '15 to 19 years',\n",
    " '20 to 24 years',\n",
    " '25 to 29 years',\n",
    " '30 to 34 years',\n",
    " '35 to 39 years',\n",
    " '40 to 44 years',\n",
    " '45 to 49 years',\n",
    " '50 to 54 years',\n",
    " '55 to 59 years',\n",
    " '60 to 64 years',]), :]\n",
    "\n",
    "relevant_age_df"
   ]
  },
  {
   "cell_type": "code",
   "execution_count": 16,
   "metadata": {},
   "outputs": [
    {
     "output_type": "execute_result",
     "data": {
      "text/plain": [
       "     ref_date       age_group       value\n",
       "0        1971  15 to 24 years   4141006.0\n",
       "1        1971  25 to 44 years   4272310.0\n",
       "2        1971  45 to 64 years   5353040.0\n",
       "3        1972  15 to 24 years   4211044.0\n",
       "4        1972  25 to 44 years   4422840.0\n",
       "..        ...             ...         ...\n",
       "145      2019  25 to 44 years   7812332.0\n",
       "146      2019  45 to 64 years  12589414.0\n",
       "147      2020  15 to 24 years   4583667.0\n",
       "148      2020  25 to 44 years   7937643.0\n",
       "149      2020  45 to 64 years  12609415.0\n",
       "\n",
       "[150 rows x 3 columns]"
      ],
      "text/html": "<div>\n<style scoped>\n    .dataframe tbody tr th:only-of-type {\n        vertical-align: middle;\n    }\n\n    .dataframe tbody tr th {\n        vertical-align: top;\n    }\n\n    .dataframe thead th {\n        text-align: right;\n    }\n</style>\n<table border=\"1\" class=\"dataframe\">\n  <thead>\n    <tr style=\"text-align: right;\">\n      <th></th>\n      <th>ref_date</th>\n      <th>age_group</th>\n      <th>value</th>\n    </tr>\n  </thead>\n  <tbody>\n    <tr>\n      <th>0</th>\n      <td>1971</td>\n      <td>15 to 24 years</td>\n      <td>4141006.0</td>\n    </tr>\n    <tr>\n      <th>1</th>\n      <td>1971</td>\n      <td>25 to 44 years</td>\n      <td>4272310.0</td>\n    </tr>\n    <tr>\n      <th>2</th>\n      <td>1971</td>\n      <td>45 to 64 years</td>\n      <td>5353040.0</td>\n    </tr>\n    <tr>\n      <th>3</th>\n      <td>1972</td>\n      <td>15 to 24 years</td>\n      <td>4211044.0</td>\n    </tr>\n    <tr>\n      <th>4</th>\n      <td>1972</td>\n      <td>25 to 44 years</td>\n      <td>4422840.0</td>\n    </tr>\n    <tr>\n      <th>...</th>\n      <td>...</td>\n      <td>...</td>\n      <td>...</td>\n    </tr>\n    <tr>\n      <th>145</th>\n      <td>2019</td>\n      <td>25 to 44 years</td>\n      <td>7812332.0</td>\n    </tr>\n    <tr>\n      <th>146</th>\n      <td>2019</td>\n      <td>45 to 64 years</td>\n      <td>12589414.0</td>\n    </tr>\n    <tr>\n      <th>147</th>\n      <td>2020</td>\n      <td>15 to 24 years</td>\n      <td>4583667.0</td>\n    </tr>\n    <tr>\n      <th>148</th>\n      <td>2020</td>\n      <td>25 to 44 years</td>\n      <td>7937643.0</td>\n    </tr>\n    <tr>\n      <th>149</th>\n      <td>2020</td>\n      <td>45 to 64 years</td>\n      <td>12609415.0</td>\n    </tr>\n  </tbody>\n</table>\n<p>150 rows × 3 columns</p>\n</div>"
     },
     "metadata": {},
     "execution_count": 16
    }
   ],
   "source": [
    "# Make dictionary to replace bin-values for rebinning\n",
    "population_groups = {\n",
    "    '15 to 19 years':'15 to 24 years',\n",
    "    '20 to 24 years':'15 to 24 years',\n",
    "    '25 to 29 years':'25 to 44 years',\n",
    "    '30 to 34 years':'25 to 44 years',\n",
    "    '35 to 39 years':'25 to 44 years',\n",
    "    '40 to 44 years':'45 to 64 years',\n",
    "    '45 to 49 years':'45 to 64 years',\n",
    "    '50 to 54 years':'45 to 64 years',\n",
    "    '55 to 59 years':'45 to 64 years',\n",
    "    '60 to 64 years':'45 to 64 years', \n",
    "}\n",
    "\n",
    "# Replace names in age_groups\n",
    "rebinned_pop_df = relevant_age_df.replace(population_groups)\n",
    "rebinned_pop_df.sort_values('ref_date')\n",
    "\n",
    "# Re-bin values\n",
    "grouped_binned_pop = rebinned_pop_df.groupby(['ref_date', 'age_group']).value.sum()\n",
    "grouped_binned_pop = pd.DataFrame(grouped_binned_pop)\n",
    "grouped_binned_pop = grouped_binned_pop.reset_index()\n",
    "grouped_binned_pop"
   ]
  },
  {
   "cell_type": "code",
   "execution_count": 18,
   "metadata": {},
   "outputs": [
    {
     "output_type": "execute_result",
     "data": {
      "text/plain": [
       "     ref_date       age_group      value\n",
       "0        1961  15 to 24 years   173646.0\n",
       "1        1961  25 to 44 years    47466.0\n",
       "2        1961  45 to 64 years    56399.0\n",
       "3        1962  15 to 24 years   206500.0\n",
       "4        1962  25 to 44 years    47486.0\n",
       "..        ...             ...        ...\n",
       "169      2017  25 to 44 years  2104791.0\n",
       "170      2017  45 to 64 years  1138798.0\n",
       "171      2018  15 to 24 years  1683164.0\n",
       "172      2018  25 to 44 years  2171770.0\n",
       "173      2018  45 to 64 years  1180015.0\n",
       "\n",
       "[174 rows x 3 columns]"
      ],
      "text/html": "<div>\n<style scoped>\n    .dataframe tbody tr th:only-of-type {\n        vertical-align: middle;\n    }\n\n    .dataframe tbody tr th {\n        vertical-align: top;\n    }\n\n    .dataframe thead th {\n        text-align: right;\n    }\n</style>\n<table border=\"1\" class=\"dataframe\">\n  <thead>\n    <tr style=\"text-align: right;\">\n      <th></th>\n      <th>ref_date</th>\n      <th>age_group</th>\n      <th>value</th>\n    </tr>\n  </thead>\n  <tbody>\n    <tr>\n      <th>0</th>\n      <td>1961</td>\n      <td>15 to 24 years</td>\n      <td>173646.0</td>\n    </tr>\n    <tr>\n      <th>1</th>\n      <td>1961</td>\n      <td>25 to 44 years</td>\n      <td>47466.0</td>\n    </tr>\n    <tr>\n      <th>2</th>\n      <td>1961</td>\n      <td>45 to 64 years</td>\n      <td>56399.0</td>\n    </tr>\n    <tr>\n      <th>3</th>\n      <td>1962</td>\n      <td>15 to 24 years</td>\n      <td>206500.0</td>\n    </tr>\n    <tr>\n      <th>4</th>\n      <td>1962</td>\n      <td>25 to 44 years</td>\n      <td>47486.0</td>\n    </tr>\n    <tr>\n      <th>...</th>\n      <td>...</td>\n      <td>...</td>\n      <td>...</td>\n    </tr>\n    <tr>\n      <th>169</th>\n      <td>2017</td>\n      <td>25 to 44 years</td>\n      <td>2104791.0</td>\n    </tr>\n    <tr>\n      <th>170</th>\n      <td>2017</td>\n      <td>45 to 64 years</td>\n      <td>1138798.0</td>\n    </tr>\n    <tr>\n      <th>171</th>\n      <td>2018</td>\n      <td>15 to 24 years</td>\n      <td>1683164.0</td>\n    </tr>\n    <tr>\n      <th>172</th>\n      <td>2018</td>\n      <td>25 to 44 years</td>\n      <td>2171770.0</td>\n    </tr>\n    <tr>\n      <th>173</th>\n      <td>2018</td>\n      <td>45 to 64 years</td>\n      <td>1180015.0</td>\n    </tr>\n  </tbody>\n</table>\n<p>174 rows × 3 columns</p>\n</div>"
     },
     "metadata": {},
     "execution_count": 18
    }
   ],
   "source": [
    "# Remove erroneous rows from cannabis DataFrame\n",
    "annual_age_consumption = cannabis_data.loc[(cannabis_data.frequency_of_use == 'Total, all frequencies') & (cannabis_data.prevalence == 'Consuming population of cannabis') & (cannabis_data.age_group != '15 years and over') & (cannabis_data.age_group != '65 years and over'),:]\n",
    "annual_age_consumption = annual_age_consumption.reset_index(drop=True)\n",
    "\n",
    "# Make dictionary for re-binning\n",
    "age_groups = {\n",
    "    '15 to 17 years ':'15 to 24 years',\n",
    "    '18 to 24 years':'15 to 24 years'\n",
    "}\n",
    "\n",
    "# Replace names in age_group\n",
    "rebinned_cannabis_df = annual_age_consumption.replace(age_groups)\n",
    "\n",
    "# Re-bin values\n",
    "grouped_binned_cannabis = rebinned_cannabis_df.groupby(['ref_date','age_group']).value.sum()\n",
    "grouped_binned_cannabis = pd.DataFrame(grouped_binned_cannabis)\n",
    "grouped_binned_cannabis = grouped_binned_cannabis.reset_index()\n",
    "\n",
    "grouped_binned_cannabis"
   ]
  },
  {
   "cell_type": "code",
   "execution_count": 19,
   "metadata": {},
   "outputs": [
    {
     "output_type": "execute_result",
     "data": {
      "text/plain": [
       "     ref_date       age_group  value_cannabis   value_pop\n",
       "0        1971  15 to 24 years       1189603.0   4141006.0\n",
       "1        1971  25 to 44 years         98434.0   4272310.0\n",
       "2        1971  45 to 64 years         68544.0   5353040.0\n",
       "3        1972  15 to 24 years       1306569.0   4211044.0\n",
       "4        1972  25 to 44 years        117521.0   4422840.0\n",
       "..        ...             ...             ...         ...\n",
       "139      2017  25 to 44 years       2104791.0   7484670.0\n",
       "140      2017  45 to 64 years       1138798.0  12521462.0\n",
       "141      2018  15 to 24 years       1683164.0   4542854.0\n",
       "142      2018  25 to 44 years       2171770.0   7645727.0\n",
       "143      2018  45 to 64 years       1180015.0  12554773.0\n",
       "\n",
       "[144 rows x 4 columns]"
      ],
      "text/html": "<div>\n<style scoped>\n    .dataframe tbody tr th:only-of-type {\n        vertical-align: middle;\n    }\n\n    .dataframe tbody tr th {\n        vertical-align: top;\n    }\n\n    .dataframe thead th {\n        text-align: right;\n    }\n</style>\n<table border=\"1\" class=\"dataframe\">\n  <thead>\n    <tr style=\"text-align: right;\">\n      <th></th>\n      <th>ref_date</th>\n      <th>age_group</th>\n      <th>value_cannabis</th>\n      <th>value_pop</th>\n    </tr>\n  </thead>\n  <tbody>\n    <tr>\n      <th>0</th>\n      <td>1971</td>\n      <td>15 to 24 years</td>\n      <td>1189603.0</td>\n      <td>4141006.0</td>\n    </tr>\n    <tr>\n      <th>1</th>\n      <td>1971</td>\n      <td>25 to 44 years</td>\n      <td>98434.0</td>\n      <td>4272310.0</td>\n    </tr>\n    <tr>\n      <th>2</th>\n      <td>1971</td>\n      <td>45 to 64 years</td>\n      <td>68544.0</td>\n      <td>5353040.0</td>\n    </tr>\n    <tr>\n      <th>3</th>\n      <td>1972</td>\n      <td>15 to 24 years</td>\n      <td>1306569.0</td>\n      <td>4211044.0</td>\n    </tr>\n    <tr>\n      <th>4</th>\n      <td>1972</td>\n      <td>25 to 44 years</td>\n      <td>117521.0</td>\n      <td>4422840.0</td>\n    </tr>\n    <tr>\n      <th>...</th>\n      <td>...</td>\n      <td>...</td>\n      <td>...</td>\n      <td>...</td>\n    </tr>\n    <tr>\n      <th>139</th>\n      <td>2017</td>\n      <td>25 to 44 years</td>\n      <td>2104791.0</td>\n      <td>7484670.0</td>\n    </tr>\n    <tr>\n      <th>140</th>\n      <td>2017</td>\n      <td>45 to 64 years</td>\n      <td>1138798.0</td>\n      <td>12521462.0</td>\n    </tr>\n    <tr>\n      <th>141</th>\n      <td>2018</td>\n      <td>15 to 24 years</td>\n      <td>1683164.0</td>\n      <td>4542854.0</td>\n    </tr>\n    <tr>\n      <th>142</th>\n      <td>2018</td>\n      <td>25 to 44 years</td>\n      <td>2171770.0</td>\n      <td>7645727.0</td>\n    </tr>\n    <tr>\n      <th>143</th>\n      <td>2018</td>\n      <td>45 to 64 years</td>\n      <td>1180015.0</td>\n      <td>12554773.0</td>\n    </tr>\n  </tbody>\n</table>\n<p>144 rows × 4 columns</p>\n</div>"
     },
     "metadata": {},
     "execution_count": 19
    }
   ],
   "source": [
    "# Merge the two data sets\n",
    "merged_df = grouped_binned_cannabis.merge(grouped_binned_pop, on = ['ref_date', 'age_group'], how = 'inner', suffixes= ['_cannabis', '_pop'])\n",
    "merged_df"
   ]
  },
  {
   "cell_type": "code",
   "execution_count": 20,
   "metadata": {},
   "outputs": [
    {
     "output_type": "execute_result",
     "data": {
      "text/plain": [
       "[<matplotlib.lines.Line2D at 0x7ff39ee35f10>]"
      ]
     },
     "metadata": {},
     "execution_count": 20
    },
    {
     "output_type": "display_data",
     "data": {
      "text/plain": "<Figure size 432x288 with 1 Axes>",
      "image/svg+xml": "<?xml version=\"1.0\" encoding=\"utf-8\" standalone=\"no\"?>\n<!DOCTYPE svg PUBLIC \"-//W3C//DTD SVG 1.1//EN\"\n  \"http://www.w3.org/Graphics/SVG/1.1/DTD/svg11.dtd\">\n<!-- Created with matplotlib (https://matplotlib.org/) -->\n<svg height=\"248.518125pt\" version=\"1.1\" viewBox=\"0 0 388.924087 248.518125\" width=\"388.924087pt\" xmlns=\"http://www.w3.org/2000/svg\" xmlns:xlink=\"http://www.w3.org/1999/xlink\">\n <defs>\n  <style type=\"text/css\">\n*{stroke-linecap:butt;stroke-linejoin:round;}\n  </style>\n </defs>\n <g id=\"figure_1\">\n  <g id=\"patch_1\">\n   <path d=\"M 0 248.518125 \nL 388.924087 248.518125 \nL 388.924087 0 \nL 0 0 \nz\n\" style=\"fill:none;\"/>\n  </g>\n  <g id=\"axes_1\">\n   <g id=\"patch_2\">\n    <path d=\"M 36.465625 224.64 \nL 371.265625 224.64 \nL 371.265625 7.2 \nL 36.465625 7.2 \nz\n\" style=\"fill:#ffffff;\"/>\n   </g>\n   <g id=\"matplotlib.axis_1\">\n    <g id=\"xtick_1\">\n     <g id=\"line2d_1\">\n      <defs>\n       <path d=\"M 0 0 \nL 0 3.5 \n\" id=\"md4f9b82415\" style=\"stroke:#000000;stroke-width:0.8;\"/>\n      </defs>\n      <g>\n       <use style=\"stroke:#000000;stroke-width:0.8;\" x=\"45.207985\" xlink:href=\"#md4f9b82415\" y=\"224.64\"/>\n      </g>\n     </g>\n     <g id=\"text_1\">\n      <!-- 1970 -->\n      <defs>\n       <path d=\"M 12.40625 8.296875 \nL 28.515625 8.296875 \nL 28.515625 63.921875 \nL 10.984375 60.40625 \nL 10.984375 69.390625 \nL 28.421875 72.90625 \nL 38.28125 72.90625 \nL 38.28125 8.296875 \nL 54.390625 8.296875 \nL 54.390625 0 \nL 12.40625 0 \nz\n\" id=\"DejaVuSans-49\"/>\n       <path d=\"M 10.984375 1.515625 \nL 10.984375 10.5 \nQ 14.703125 8.734375 18.5 7.8125 \nQ 22.3125 6.890625 25.984375 6.890625 \nQ 35.75 6.890625 40.890625 13.453125 \nQ 46.046875 20.015625 46.78125 33.40625 \nQ 43.953125 29.203125 39.59375 26.953125 \nQ 35.25 24.703125 29.984375 24.703125 \nQ 19.046875 24.703125 12.671875 31.3125 \nQ 6.296875 37.9375 6.296875 49.421875 \nQ 6.296875 60.640625 12.9375 67.421875 \nQ 19.578125 74.21875 30.609375 74.21875 \nQ 43.265625 74.21875 49.921875 64.515625 \nQ 56.59375 54.828125 56.59375 36.375 \nQ 56.59375 19.140625 48.40625 8.859375 \nQ 40.234375 -1.421875 26.421875 -1.421875 \nQ 22.703125 -1.421875 18.890625 -0.6875 \nQ 15.09375 0.046875 10.984375 1.515625 \nz\nM 30.609375 32.421875 \nQ 37.25 32.421875 41.125 36.953125 \nQ 45.015625 41.5 45.015625 49.421875 \nQ 45.015625 57.28125 41.125 61.84375 \nQ 37.25 66.40625 30.609375 66.40625 \nQ 23.96875 66.40625 20.09375 61.84375 \nQ 16.21875 57.28125 16.21875 49.421875 \nQ 16.21875 41.5 20.09375 36.953125 \nQ 23.96875 32.421875 30.609375 32.421875 \nz\n\" id=\"DejaVuSans-57\"/>\n       <path d=\"M 8.203125 72.90625 \nL 55.078125 72.90625 \nL 55.078125 68.703125 \nL 28.609375 0 \nL 18.3125 0 \nL 43.21875 64.59375 \nL 8.203125 64.59375 \nz\n\" id=\"DejaVuSans-55\"/>\n       <path d=\"M 31.78125 66.40625 \nQ 24.171875 66.40625 20.328125 58.90625 \nQ 16.5 51.421875 16.5 36.375 \nQ 16.5 21.390625 20.328125 13.890625 \nQ 24.171875 6.390625 31.78125 6.390625 \nQ 39.453125 6.390625 43.28125 13.890625 \nQ 47.125 21.390625 47.125 36.375 \nQ 47.125 51.421875 43.28125 58.90625 \nQ 39.453125 66.40625 31.78125 66.40625 \nz\nM 31.78125 74.21875 \nQ 44.046875 74.21875 50.515625 64.515625 \nQ 56.984375 54.828125 56.984375 36.375 \nQ 56.984375 17.96875 50.515625 8.265625 \nQ 44.046875 -1.421875 31.78125 -1.421875 \nQ 19.53125 -1.421875 13.0625 8.265625 \nQ 6.59375 17.96875 6.59375 36.375 \nQ 6.59375 54.828125 13.0625 64.515625 \nQ 19.53125 74.21875 31.78125 74.21875 \nz\n\" id=\"DejaVuSans-48\"/>\n      </defs>\n      <g transform=\"translate(32.482985 239.238437)scale(0.1 -0.1)\">\n       <use xlink:href=\"#DejaVuSans-49\"/>\n       <use x=\"63.623047\" xlink:href=\"#DejaVuSans-57\"/>\n       <use x=\"127.246094\" xlink:href=\"#DejaVuSans-55\"/>\n       <use x=\"190.869141\" xlink:href=\"#DejaVuSans-48\"/>\n      </g>\n     </g>\n    </g>\n    <g id=\"xtick_2\">\n     <g id=\"line2d_2\">\n      <g>\n       <use style=\"stroke:#000000;stroke-width:0.8;\" x=\"109.966205\" xlink:href=\"#md4f9b82415\" y=\"224.64\"/>\n      </g>\n     </g>\n     <g id=\"text_2\">\n      <!-- 1980 -->\n      <defs>\n       <path d=\"M 31.78125 34.625 \nQ 24.75 34.625 20.71875 30.859375 \nQ 16.703125 27.09375 16.703125 20.515625 \nQ 16.703125 13.921875 20.71875 10.15625 \nQ 24.75 6.390625 31.78125 6.390625 \nQ 38.8125 6.390625 42.859375 10.171875 \nQ 46.921875 13.96875 46.921875 20.515625 \nQ 46.921875 27.09375 42.890625 30.859375 \nQ 38.875 34.625 31.78125 34.625 \nz\nM 21.921875 38.8125 \nQ 15.578125 40.375 12.03125 44.71875 \nQ 8.5 49.078125 8.5 55.328125 \nQ 8.5 64.0625 14.71875 69.140625 \nQ 20.953125 74.21875 31.78125 74.21875 \nQ 42.671875 74.21875 48.875 69.140625 \nQ 55.078125 64.0625 55.078125 55.328125 \nQ 55.078125 49.078125 51.53125 44.71875 \nQ 48 40.375 41.703125 38.8125 \nQ 48.828125 37.15625 52.796875 32.3125 \nQ 56.78125 27.484375 56.78125 20.515625 \nQ 56.78125 9.90625 50.3125 4.234375 \nQ 43.84375 -1.421875 31.78125 -1.421875 \nQ 19.734375 -1.421875 13.25 4.234375 \nQ 6.78125 9.90625 6.78125 20.515625 \nQ 6.78125 27.484375 10.78125 32.3125 \nQ 14.796875 37.15625 21.921875 38.8125 \nz\nM 18.3125 54.390625 \nQ 18.3125 48.734375 21.84375 45.5625 \nQ 25.390625 42.390625 31.78125 42.390625 \nQ 38.140625 42.390625 41.71875 45.5625 \nQ 45.3125 48.734375 45.3125 54.390625 \nQ 45.3125 60.0625 41.71875 63.234375 \nQ 38.140625 66.40625 31.78125 66.40625 \nQ 25.390625 66.40625 21.84375 63.234375 \nQ 18.3125 60.0625 18.3125 54.390625 \nz\n\" id=\"DejaVuSans-56\"/>\n      </defs>\n      <g transform=\"translate(97.241205 239.238437)scale(0.1 -0.1)\">\n       <use xlink:href=\"#DejaVuSans-49\"/>\n       <use x=\"63.623047\" xlink:href=\"#DejaVuSans-57\"/>\n       <use x=\"127.246094\" xlink:href=\"#DejaVuSans-56\"/>\n       <use x=\"190.869141\" xlink:href=\"#DejaVuSans-48\"/>\n      </g>\n     </g>\n    </g>\n    <g id=\"xtick_3\">\n     <g id=\"line2d_3\">\n      <g>\n       <use style=\"stroke:#000000;stroke-width:0.8;\" x=\"174.724426\" xlink:href=\"#md4f9b82415\" y=\"224.64\"/>\n      </g>\n     </g>\n     <g id=\"text_3\">\n      <!-- 1990 -->\n      <g transform=\"translate(161.999426 239.238437)scale(0.1 -0.1)\">\n       <use xlink:href=\"#DejaVuSans-49\"/>\n       <use x=\"63.623047\" xlink:href=\"#DejaVuSans-57\"/>\n       <use x=\"127.246094\" xlink:href=\"#DejaVuSans-57\"/>\n       <use x=\"190.869141\" xlink:href=\"#DejaVuSans-48\"/>\n      </g>\n     </g>\n    </g>\n    <g id=\"xtick_4\">\n     <g id=\"line2d_4\">\n      <g>\n       <use style=\"stroke:#000000;stroke-width:0.8;\" x=\"239.482646\" xlink:href=\"#md4f9b82415\" y=\"224.64\"/>\n      </g>\n     </g>\n     <g id=\"text_4\">\n      <!-- 2000 -->\n      <defs>\n       <path d=\"M 19.1875 8.296875 \nL 53.609375 8.296875 \nL 53.609375 0 \nL 7.328125 0 \nL 7.328125 8.296875 \nQ 12.9375 14.109375 22.625 23.890625 \nQ 32.328125 33.6875 34.8125 36.53125 \nQ 39.546875 41.84375 41.421875 45.53125 \nQ 43.3125 49.21875 43.3125 52.78125 \nQ 43.3125 58.59375 39.234375 62.25 \nQ 35.15625 65.921875 28.609375 65.921875 \nQ 23.96875 65.921875 18.8125 64.3125 \nQ 13.671875 62.703125 7.8125 59.421875 \nL 7.8125 69.390625 \nQ 13.765625 71.78125 18.9375 73 \nQ 24.125 74.21875 28.421875 74.21875 \nQ 39.75 74.21875 46.484375 68.546875 \nQ 53.21875 62.890625 53.21875 53.421875 \nQ 53.21875 48.921875 51.53125 44.890625 \nQ 49.859375 40.875 45.40625 35.40625 \nQ 44.1875 33.984375 37.640625 27.21875 \nQ 31.109375 20.453125 19.1875 8.296875 \nz\n\" id=\"DejaVuSans-50\"/>\n      </defs>\n      <g transform=\"translate(226.757646 239.238437)scale(0.1 -0.1)\">\n       <use xlink:href=\"#DejaVuSans-50\"/>\n       <use x=\"63.623047\" xlink:href=\"#DejaVuSans-48\"/>\n       <use x=\"127.246094\" xlink:href=\"#DejaVuSans-48\"/>\n       <use x=\"190.869141\" xlink:href=\"#DejaVuSans-48\"/>\n      </g>\n     </g>\n    </g>\n    <g id=\"xtick_5\">\n     <g id=\"line2d_5\">\n      <g>\n       <use style=\"stroke:#000000;stroke-width:0.8;\" x=\"304.240867\" xlink:href=\"#md4f9b82415\" y=\"224.64\"/>\n      </g>\n     </g>\n     <g id=\"text_5\">\n      <!-- 2010 -->\n      <g transform=\"translate(291.515867 239.238437)scale(0.1 -0.1)\">\n       <use xlink:href=\"#DejaVuSans-50\"/>\n       <use x=\"63.623047\" xlink:href=\"#DejaVuSans-48\"/>\n       <use x=\"127.246094\" xlink:href=\"#DejaVuSans-49\"/>\n       <use x=\"190.869141\" xlink:href=\"#DejaVuSans-48\"/>\n      </g>\n     </g>\n    </g>\n    <g id=\"xtick_6\">\n     <g id=\"line2d_6\">\n      <g>\n       <use style=\"stroke:#000000;stroke-width:0.8;\" x=\"368.999087\" xlink:href=\"#md4f9b82415\" y=\"224.64\"/>\n      </g>\n     </g>\n     <g id=\"text_6\">\n      <!-- 2020 -->\n      <g transform=\"translate(356.274087 239.238437)scale(0.1 -0.1)\">\n       <use xlink:href=\"#DejaVuSans-50\"/>\n       <use x=\"63.623047\" xlink:href=\"#DejaVuSans-48\"/>\n       <use x=\"127.246094\" xlink:href=\"#DejaVuSans-50\"/>\n       <use x=\"190.869141\" xlink:href=\"#DejaVuSans-48\"/>\n      </g>\n     </g>\n    </g>\n   </g>\n   <g id=\"matplotlib.axis_2\">\n    <g id=\"ytick_1\">\n     <g id=\"line2d_7\">\n      <defs>\n       <path d=\"M 0 0 \nL -3.5 0 \n\" id=\"m8e9b29f938\" style=\"stroke:#000000;stroke-width:0.8;\"/>\n      </defs>\n      <g>\n       <use style=\"stroke:#000000;stroke-width:0.8;\" x=\"36.465625\" xlink:href=\"#m8e9b29f938\" y=\"221.832443\"/>\n      </g>\n     </g>\n     <g id=\"text_7\">\n      <!-- 0.00 -->\n      <defs>\n       <path d=\"M 10.6875 12.40625 \nL 21 12.40625 \nL 21 0 \nL 10.6875 0 \nz\n\" id=\"DejaVuSans-46\"/>\n      </defs>\n      <g transform=\"translate(7.2 225.631662)scale(0.1 -0.1)\">\n       <use xlink:href=\"#DejaVuSans-48\"/>\n       <use x=\"63.623047\" xlink:href=\"#DejaVuSans-46\"/>\n       <use x=\"95.410156\" xlink:href=\"#DejaVuSans-48\"/>\n       <use x=\"159.033203\" xlink:href=\"#DejaVuSans-48\"/>\n      </g>\n     </g>\n    </g>\n    <g id=\"ytick_2\">\n     <g id=\"line2d_8\">\n      <g>\n       <use style=\"stroke:#000000;stroke-width:0.8;\" x=\"36.465625\" xlink:href=\"#m8e9b29f938\" y=\"194.201626\"/>\n      </g>\n     </g>\n     <g id=\"text_8\">\n      <!-- 0.05 -->\n      <defs>\n       <path d=\"M 10.796875 72.90625 \nL 49.515625 72.90625 \nL 49.515625 64.59375 \nL 19.828125 64.59375 \nL 19.828125 46.734375 \nQ 21.96875 47.46875 24.109375 47.828125 \nQ 26.265625 48.1875 28.421875 48.1875 \nQ 40.625 48.1875 47.75 41.5 \nQ 54.890625 34.8125 54.890625 23.390625 \nQ 54.890625 11.625 47.5625 5.09375 \nQ 40.234375 -1.421875 26.90625 -1.421875 \nQ 22.3125 -1.421875 17.546875 -0.640625 \nQ 12.796875 0.140625 7.71875 1.703125 \nL 7.71875 11.625 \nQ 12.109375 9.234375 16.796875 8.0625 \nQ 21.484375 6.890625 26.703125 6.890625 \nQ 35.15625 6.890625 40.078125 11.328125 \nQ 45.015625 15.765625 45.015625 23.390625 \nQ 45.015625 31 40.078125 35.4375 \nQ 35.15625 39.890625 26.703125 39.890625 \nQ 22.75 39.890625 18.8125 39.015625 \nQ 14.890625 38.140625 10.796875 36.28125 \nz\n\" id=\"DejaVuSans-53\"/>\n      </defs>\n      <g transform=\"translate(7.2 198.000844)scale(0.1 -0.1)\">\n       <use xlink:href=\"#DejaVuSans-48\"/>\n       <use x=\"63.623047\" xlink:href=\"#DejaVuSans-46\"/>\n       <use x=\"95.410156\" xlink:href=\"#DejaVuSans-48\"/>\n       <use x=\"159.033203\" xlink:href=\"#DejaVuSans-53\"/>\n      </g>\n     </g>\n    </g>\n    <g id=\"ytick_3\">\n     <g id=\"line2d_9\">\n      <g>\n       <use style=\"stroke:#000000;stroke-width:0.8;\" x=\"36.465625\" xlink:href=\"#m8e9b29f938\" y=\"166.570808\"/>\n      </g>\n     </g>\n     <g id=\"text_9\">\n      <!-- 0.10 -->\n      <g transform=\"translate(7.2 170.370027)scale(0.1 -0.1)\">\n       <use xlink:href=\"#DejaVuSans-48\"/>\n       <use x=\"63.623047\" xlink:href=\"#DejaVuSans-46\"/>\n       <use x=\"95.410156\" xlink:href=\"#DejaVuSans-49\"/>\n       <use x=\"159.033203\" xlink:href=\"#DejaVuSans-48\"/>\n      </g>\n     </g>\n    </g>\n    <g id=\"ytick_4\">\n     <g id=\"line2d_10\">\n      <g>\n       <use style=\"stroke:#000000;stroke-width:0.8;\" x=\"36.465625\" xlink:href=\"#m8e9b29f938\" y=\"138.939991\"/>\n      </g>\n     </g>\n     <g id=\"text_10\">\n      <!-- 0.15 -->\n      <g transform=\"translate(7.2 142.73921)scale(0.1 -0.1)\">\n       <use xlink:href=\"#DejaVuSans-48\"/>\n       <use x=\"63.623047\" xlink:href=\"#DejaVuSans-46\"/>\n       <use x=\"95.410156\" xlink:href=\"#DejaVuSans-49\"/>\n       <use x=\"159.033203\" xlink:href=\"#DejaVuSans-53\"/>\n      </g>\n     </g>\n    </g>\n    <g id=\"ytick_5\">\n     <g id=\"line2d_11\">\n      <g>\n       <use style=\"stroke:#000000;stroke-width:0.8;\" x=\"36.465625\" xlink:href=\"#m8e9b29f938\" y=\"111.309174\"/>\n      </g>\n     </g>\n     <g id=\"text_11\">\n      <!-- 0.20 -->\n      <g transform=\"translate(7.2 115.108393)scale(0.1 -0.1)\">\n       <use xlink:href=\"#DejaVuSans-48\"/>\n       <use x=\"63.623047\" xlink:href=\"#DejaVuSans-46\"/>\n       <use x=\"95.410156\" xlink:href=\"#DejaVuSans-50\"/>\n       <use x=\"159.033203\" xlink:href=\"#DejaVuSans-48\"/>\n      </g>\n     </g>\n    </g>\n    <g id=\"ytick_6\">\n     <g id=\"line2d_12\">\n      <g>\n       <use style=\"stroke:#000000;stroke-width:0.8;\" x=\"36.465625\" xlink:href=\"#m8e9b29f938\" y=\"83.678357\"/>\n      </g>\n     </g>\n     <g id=\"text_12\">\n      <!-- 0.25 -->\n      <g transform=\"translate(7.2 87.477576)scale(0.1 -0.1)\">\n       <use xlink:href=\"#DejaVuSans-48\"/>\n       <use x=\"63.623047\" xlink:href=\"#DejaVuSans-46\"/>\n       <use x=\"95.410156\" xlink:href=\"#DejaVuSans-50\"/>\n       <use x=\"159.033203\" xlink:href=\"#DejaVuSans-53\"/>\n      </g>\n     </g>\n    </g>\n    <g id=\"ytick_7\">\n     <g id=\"line2d_13\">\n      <g>\n       <use style=\"stroke:#000000;stroke-width:0.8;\" x=\"36.465625\" xlink:href=\"#m8e9b29f938\" y=\"56.04754\"/>\n      </g>\n     </g>\n     <g id=\"text_13\">\n      <!-- 0.30 -->\n      <defs>\n       <path d=\"M 40.578125 39.3125 \nQ 47.65625 37.796875 51.625 33 \nQ 55.609375 28.21875 55.609375 21.1875 \nQ 55.609375 10.40625 48.1875 4.484375 \nQ 40.765625 -1.421875 27.09375 -1.421875 \nQ 22.515625 -1.421875 17.65625 -0.515625 \nQ 12.796875 0.390625 7.625 2.203125 \nL 7.625 11.71875 \nQ 11.71875 9.328125 16.59375 8.109375 \nQ 21.484375 6.890625 26.8125 6.890625 \nQ 36.078125 6.890625 40.9375 10.546875 \nQ 45.796875 14.203125 45.796875 21.1875 \nQ 45.796875 27.640625 41.28125 31.265625 \nQ 36.765625 34.90625 28.71875 34.90625 \nL 20.21875 34.90625 \nL 20.21875 43.015625 \nL 29.109375 43.015625 \nQ 36.375 43.015625 40.234375 45.921875 \nQ 44.09375 48.828125 44.09375 54.296875 \nQ 44.09375 59.90625 40.109375 62.90625 \nQ 36.140625 65.921875 28.71875 65.921875 \nQ 24.65625 65.921875 20.015625 65.03125 \nQ 15.375 64.15625 9.8125 62.3125 \nL 9.8125 71.09375 \nQ 15.4375 72.65625 20.34375 73.4375 \nQ 25.25 74.21875 29.59375 74.21875 \nQ 40.828125 74.21875 47.359375 69.109375 \nQ 53.90625 64.015625 53.90625 55.328125 \nQ 53.90625 49.265625 50.4375 45.09375 \nQ 46.96875 40.921875 40.578125 39.3125 \nz\n\" id=\"DejaVuSans-51\"/>\n      </defs>\n      <g transform=\"translate(7.2 59.846759)scale(0.1 -0.1)\">\n       <use xlink:href=\"#DejaVuSans-48\"/>\n       <use x=\"63.623047\" xlink:href=\"#DejaVuSans-46\"/>\n       <use x=\"95.410156\" xlink:href=\"#DejaVuSans-51\"/>\n       <use x=\"159.033203\" xlink:href=\"#DejaVuSans-48\"/>\n      </g>\n     </g>\n    </g>\n    <g id=\"ytick_8\">\n     <g id=\"line2d_14\">\n      <g>\n       <use style=\"stroke:#000000;stroke-width:0.8;\" x=\"36.465625\" xlink:href=\"#m8e9b29f938\" y=\"28.416723\"/>\n      </g>\n     </g>\n     <g id=\"text_14\">\n      <!-- 0.35 -->\n      <g transform=\"translate(7.2 32.215942)scale(0.1 -0.1)\">\n       <use xlink:href=\"#DejaVuSans-48\"/>\n       <use x=\"63.623047\" xlink:href=\"#DejaVuSans-46\"/>\n       <use x=\"95.410156\" xlink:href=\"#DejaVuSans-51\"/>\n       <use x=\"159.033203\" xlink:href=\"#DejaVuSans-53\"/>\n      </g>\n     </g>\n    </g>\n   </g>\n   <g id=\"line2d_15\">\n    <path clip-path=\"url(#p52262a33ce)\" d=\"M 51.683807 63.080183 \nL 58.159629 50.371071 \nL 64.635451 41.668844 \nL 71.111273 36.776954 \nL 77.587095 34.475615 \nL 84.062917 33.659553 \nL 90.538739 32.971158 \nL 97.014561 33.277958 \nL 103.490383 34.3852 \nL 109.966205 36.702301 \nL 116.442027 38.832055 \nL 122.917849 39.945883 \nL 129.393671 41.236579 \nL 135.869493 43.795419 \nL 142.345316 47.71361 \nL 148.821138 52.716342 \nL 155.29696 56.93095 \nL 161.772782 60.473636 \nL 168.248604 64.808553 \nL 174.724426 68.437684 \nL 181.200248 70.979335 \nL 187.67607 72.165266 \nL 194.151892 70.637128 \nL 200.627714 67.225307 \nL 207.103536 61.844893 \nL 213.579358 55.343059 \nL 220.05518 47.977824 \nL 226.531002 40.610396 \nL 233.006824 34.564356 \nL 239.482646 29.73674 \nL 245.958468 26.743954 \nL 252.43429 24.47194 \nL 258.910112 23.137623 \nL 265.385934 23.374666 \nL 271.861757 24.884578 \nL 278.337579 27.026307 \nL 284.813401 28.685061 \nL 291.289223 30.284268 \nL 297.765045 32.15828 \nL 304.240867 34.061044 \nL 310.716689 35.298179 \nL 317.192511 35.549405 \nL 323.668333 35.004409 \nL 330.144155 33.805985 \nL 336.619977 31.540963 \nL 343.095799 25.950041 \nL 349.571621 20.943261 \nL 356.047443 17.083636 \n\" style=\"fill:none;stroke:#1f77b4;stroke-linecap:square;stroke-width:1.5;\"/>\n   </g>\n   <g id=\"line2d_16\">\n    <path clip-path=\"url(#p52262a33ce)\" d=\"M 51.683807 209.100165 \nL 58.159629 207.148659 \nL 64.635451 204.860357 \nL 71.111273 202.3644 \nL 77.587095 199.642279 \nL 84.062917 196.648291 \nL 90.538739 193.454999 \nL 97.014561 189.936509 \nL 103.490383 186.059101 \nL 109.966205 181.985083 \nL 116.442027 177.407466 \nL 122.917849 172.71836 \nL 129.393671 167.676029 \nL 135.869493 162.737868 \nL 142.345316 158.380173 \nL 148.821138 154.822583 \nL 155.29696 152.087819 \nL 161.772782 150.506951 \nL 168.248604 150.311195 \nL 174.724426 150.086925 \nL 181.200248 149.434549 \nL 187.67607 148.463924 \nL 194.151892 147.034132 \nL 200.627714 145.068956 \nL 207.103536 142.772614 \nL 213.579358 140.293064 \nL 220.05518 137.466998 \nL 226.531002 134.00882 \nL 233.006824 130.419271 \nL 239.482646 127.089439 \nL 245.958468 124.286136 \nL 252.43429 122.126234 \nL 258.910112 119.951311 \nL 265.385934 118.204633 \nL 271.861757 116.783746 \nL 278.337579 115.651449 \nL 284.813401 114.404529 \nL 291.289223 112.749845 \nL 297.765045 110.138683 \nL 304.240867 106.299123 \nL 310.716689 100.95146 \nL 317.192511 95.200479 \nL 323.668333 88.847265 \nL 330.144155 82.325231 \nL 336.619977 75.015367 \nL 343.095799 70.773611 \nL 349.571621 66.429211 \nL 356.047443 64.861681 \n\" style=\"fill:none;stroke:#ff7f0e;stroke-linecap:square;stroke-width:1.5;\"/>\n   </g>\n   <g id=\"line2d_17\">\n    <path clip-path=\"url(#p52262a33ce)\" d=\"M 51.683807 214.756364 \nL 58.159629 214.70434 \nL 64.635451 214.633534 \nL 71.111273 214.53619 \nL 77.587095 214.41307 \nL 84.062917 214.262271 \nL 90.538739 214.079997 \nL 97.014561 213.877991 \nL 103.490383 213.670852 \nL 109.966205 213.477763 \nL 116.442027 213.320301 \nL 122.917849 213.188619 \nL 129.393671 213.117292 \nL 135.869493 213.104404 \nL 142.345316 213.132154 \nL 148.821138 213.250027 \nL 155.29696 213.474163 \nL 161.772782 213.683542 \nL 168.248604 213.846785 \nL 174.724426 213.897684 \nL 181.200248 213.809471 \nL 187.67607 213.523272 \nL 194.151892 213.041234 \nL 200.627714 212.352321 \nL 207.103536 211.425566 \nL 213.579358 210.252359 \nL 220.05518 208.88066 \nL 226.531002 207.317979 \nL 233.006824 205.623951 \nL 239.482646 203.926686 \nL 245.958468 202.265251 \nL 252.43429 200.648579 \nL 258.910112 199.072656 \nL 265.385934 197.559728 \nL 271.861757 196.108285 \nL 278.337579 194.621164 \nL 284.813401 193.048137 \nL 291.289223 191.36895 \nL 297.765045 189.568931 \nL 304.240867 187.594452 \nL 310.716689 185.34977 \nL 317.192511 182.798083 \nL 323.668333 180.090324 \nL 330.144155 177.300627 \nL 336.619977 174.460206 \nL 343.095799 173.007725 \nL 349.571621 171.573265 \nL 356.047443 169.89239 \n\" style=\"fill:none;stroke:#2ca02c;stroke-linecap:square;stroke-width:1.5;\"/>\n   </g>\n   <g id=\"patch_3\">\n    <path d=\"M 36.465625 224.64 \nL 36.465625 7.2 \n\" style=\"fill:none;stroke:#000000;stroke-linecap:square;stroke-linejoin:miter;stroke-width:0.8;\"/>\n   </g>\n   <g id=\"patch_4\">\n    <path d=\"M 371.265625 224.64 \nL 371.265625 7.2 \n\" style=\"fill:none;stroke:#000000;stroke-linecap:square;stroke-linejoin:miter;stroke-width:0.8;\"/>\n   </g>\n   <g id=\"patch_5\">\n    <path d=\"M 36.465625 224.64 \nL 371.265625 224.64 \n\" style=\"fill:none;stroke:#000000;stroke-linecap:square;stroke-linejoin:miter;stroke-width:0.8;\"/>\n   </g>\n   <g id=\"patch_6\">\n    <path d=\"M 36.465625 7.2 \nL 371.265625 7.2 \n\" style=\"fill:none;stroke:#000000;stroke-linecap:square;stroke-linejoin:miter;stroke-width:0.8;\"/>\n   </g>\n  </g>\n </g>\n <defs>\n  <clipPath id=\"p52262a33ce\">\n   <rect height=\"217.44\" width=\"334.8\" x=\"36.465625\" y=\"7.2\"/>\n  </clipPath>\n </defs>\n</svg>\n",
      "image/png": "[encoded data removed]"
     },
     "metadata": {
      "needs_background": "light"
     }
    }
   ],
   "source": [
    "age_15_24_df = merged_df.loc[merged_df.age_group == '15 to 24 years', :]\n",
    "age_25_44_df = merged_df.loc[merged_df.age_group == '25 to 44 years', :]\n",
    "age_45_64_df = merged_df.loc[merged_df.age_group == '45 to 64 years', :]\n",
    "\n",
    "plt.plot(age_15_24_df.ref_date, age_15_24_df.value_cannabis/age_15_24_df.value_pop)\n",
    "plt.plot(age_25_44_df.ref_date, age_25_44_df.value_cannabis/age_25_44_df.value_pop)\n",
    "plt.plot(age_45_64_df.ref_date, age_45_64_df.value_cannabis/age_45_64_df.value_pop)"
   ]
  },
  {
   "cell_type": "code",
   "execution_count": null,
   "metadata": {},
   "outputs": [],
   "source": []
  },
  {
   "cell_type": "code",
   "execution_count": null,
   "metadata": {},
   "outputs": [],
   "source": []
  }
 ]
}