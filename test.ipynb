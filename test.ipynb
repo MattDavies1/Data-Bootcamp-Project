{
 "metadata": {
  "language_info": {
   "codemirror_mode": {
    "name": "ipython",
    "version": 3
   },
   "file_extension": ".py",
   "mimetype": "text/x-python",
   "name": "python",
   "nbconvert_exporter": "python",
   "pygments_lexer": "ipython3",
   "version": "3.8.3-final"
  },
  "orig_nbformat": 2,
  "kernelspec": {
   "name": "python3",
   "display_name": "Python 3"
  }
 },
 "nbformat": 4,
 "nbformat_minor": 2,
 "cells": [
  {
   "cell_type": "code",
   "execution_count": 3,
   "metadata": {},
   "outputs": [
    {
     "output_type": "display_data",
     "data": {
      "text/plain": "Canvas(toolbar=Toolbar(toolitems=[('Home', 'Reset original view', 'home', 'home'), ('Back', 'Back to previous …",
      "application/vnd.jupyter.widget-view+json": {
       "version_major": 2,
       "version_minor": 0,
       "model_id": "126770a58a554b0299425b67a9229e03"
      }
     },
     "metadata": {}
    }
   ],
   "source": [
    "%matplotlib ipympl\n",
    "\n",
    "import numpy as np\n",
    "import matplotlib.pyplot as plt\n",
    "import matplotlib.animation as animation\n",
    "\n",
    "x = [1189603.0, 1306569.0, 1403415.0, 1480154.0, 1538388.0, 1580454.0, 1608717.0, 1624948.0, 1629695.0, 1622944.0, 1604857.0, 1575642.0, 1535442.0, 1484223.0, 1423213.0, 1356458.0, 1289274.0, 1226632.0, 1171571.0, 1126677.0, 1095563.0, 1081874.0, 1088266.0, 1113752.0, 1155047.0, 1208375.0, 1269513.0, 1333177.0, 1393945.0, 1447553.0, 1491508.0, 1525178.0, 1548936.0, 1564028.0, 1571858.0, 1573374.0, 1570513.0, 1565190.0, 1558873.0, 1553111.0, 1548888.0, 1546448.0, 1545463.0, 1545379.0, 1545628.0, 1584819.0, 1632955.0, 1683164.0]\n",
    "y = [0, 116966.0, 96846.0, 76739.0, 58234.0, 42066.0, 28263.0, 16231.0, 4747.0, -6751.0, -18087.0, -29215.0, -40200.0, -51219.0, -61010.0, -66755.0, -67184.0, -62642.0, -55061.0, -44894.0, -31114.0, -13689.0, 6392.0, 25486.0, 41295.0, 53328.0, 61138.0, 63664.0, 60768.0, 53608.0, 43955.0, 33670.0, 23758.0, 15092.0, 7830.0, 1516.0, -2861.0, -5323.0, -6317.0, -5762.0, -4223.0, -2440.0, -985.0, -84.0, 249.0, 39191.0, 48136.0, 50209.0]\n",
    "\n",
    "fig, ax = plt.subplots()\n",
    "line, = ax.plot(x, y, color='k')\n",
    "\n",
    "def update(num, x, y, line):\n",
    "    line.set_data(x[:num], y[:num])\n",
    "    line.axes.axis([1000000, 1700000, -75000, 125000])\n",
    "    return line,\n",
    "\n",
    "ani = animation.FuncAnimation(fig, update, len(x), fargs=[x, y, line],\n",
    "                              interval=50, blit=False)\n",
    "\n",
    "plt.show()"
   ]
  },
  {
   "cell_type": "code",
   "execution_count": null,
   "metadata": {},
   "outputs": [],
   "source": []
  }
 ]
}