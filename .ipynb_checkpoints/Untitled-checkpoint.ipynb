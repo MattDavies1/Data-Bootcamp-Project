{
 "cells": [
  {
   "cell_type": "code",
   "execution_count": 1,
   "metadata": {},
   "outputs": [],
   "source": [
    "# Dependencies and Setup\n",
    "import matplotlib.pyplot as plt\n",
    "import pandas as pd\n",
    "import scipy.stats as st\n",
    "import numpy as np\n",
    "import random\n",
    "import scipy.stats as sts"
   ]
  },
  {
   "cell_type": "code",
   "execution_count": 8,
   "metadata": {},
   "outputs": [
    {
     "name": "stderr",
     "output_type": "stream",
     "text": [
      "<ipython-input-8-023e68e687ca>:6: SettingWithCopyWarning: \n",
      "A value is trying to be set on a copy of a slice from a DataFrame.\n",
      "Try using .loc[row_indexer,col_indexer] = value instead\n",
      "\n",
      "See the caveats in the documentation: https://pandas.pydata.org/pandas-docs/stable/user_guide/indexing.html#returning-a-view-versus-a-copy\n",
      "  pop_on['Year'] = pop_on['When'].str[-4:]\n"
     ]
    },
    {
     "data": {
      "text/html": [
       "<div>\n",
       "<style scoped>\n",
       "    .dataframe tbody tr th:only-of-type {\n",
       "        vertical-align: middle;\n",
       "    }\n",
       "\n",
       "    .dataframe tbody tr th {\n",
       "        vertical-align: top;\n",
       "    }\n",
       "\n",
       "    .dataframe thead th {\n",
       "        text-align: right;\n",
       "    }\n",
       "</style>\n",
       "<table border=\"1\" class=\"dataframe\">\n",
       "  <thead>\n",
       "    <tr style=\"text-align: right;\">\n",
       "      <th></th>\n",
       "      <th>When</th>\n",
       "      <th>Canada</th>\n",
       "      <th>Ontario</th>\n",
       "      <th>Year</th>\n",
       "    </tr>\n",
       "  </thead>\n",
       "  <tbody>\n",
       "    <tr>\n",
       "      <th>0</th>\n",
       "      <td>01/01/1946</td>\n",
       "      <td>12188000</td>\n",
       "      <td>NaN</td>\n",
       "      <td>1946</td>\n",
       "    </tr>\n",
       "    <tr>\n",
       "      <th>1</th>\n",
       "      <td>04/01/1946</td>\n",
       "      <td>12241000</td>\n",
       "      <td>NaN</td>\n",
       "      <td>1946</td>\n",
       "    </tr>\n",
       "    <tr>\n",
       "      <th>2</th>\n",
       "      <td>07/01/1946</td>\n",
       "      <td>12316000</td>\n",
       "      <td>NaN</td>\n",
       "      <td>1946</td>\n",
       "    </tr>\n",
       "    <tr>\n",
       "      <th>3</th>\n",
       "      <td>10/01/1946</td>\n",
       "      <td>12393000</td>\n",
       "      <td>NaN</td>\n",
       "      <td>1946</td>\n",
       "    </tr>\n",
       "    <tr>\n",
       "      <th>4</th>\n",
       "      <td>01/01/1947</td>\n",
       "      <td>12450000</td>\n",
       "      <td>NaN</td>\n",
       "      <td>1947</td>\n",
       "    </tr>\n",
       "    <tr>\n",
       "      <th>...</th>\n",
       "      <td>...</td>\n",
       "      <td>...</td>\n",
       "      <td>...</td>\n",
       "      <td>...</td>\n",
       "    </tr>\n",
       "    <tr>\n",
       "      <th>273</th>\n",
       "      <td>04/01/2014</td>\n",
       "      <td>35416179</td>\n",
       "      <td>13640187.0</td>\n",
       "      <td>2014</td>\n",
       "    </tr>\n",
       "    <tr>\n",
       "      <th>274</th>\n",
       "      <td>07/01/2014</td>\n",
       "      <td>35540419</td>\n",
       "      <td>13678740.0</td>\n",
       "      <td>2014</td>\n",
       "    </tr>\n",
       "    <tr>\n",
       "      <th>275</th>\n",
       "      <td>10/01/2014</td>\n",
       "      <td>35675834</td>\n",
       "      <td>13730187.0</td>\n",
       "      <td>2014</td>\n",
       "    </tr>\n",
       "    <tr>\n",
       "      <th>276</th>\n",
       "      <td>01/01/2015</td>\n",
       "      <td>35702707</td>\n",
       "      <td>13733544.0</td>\n",
       "      <td>2015</td>\n",
       "    </tr>\n",
       "    <tr>\n",
       "      <th>277</th>\n",
       "      <td>04/01/2015</td>\n",
       "      <td>35749600</td>\n",
       "      <td>13750073.0</td>\n",
       "      <td>2015</td>\n",
       "    </tr>\n",
       "  </tbody>\n",
       "</table>\n",
       "<p>278 rows × 4 columns</p>\n",
       "</div>"
      ],
      "text/plain": [
       "           When    Canada     Ontario  Year\n",
       "0    01/01/1946  12188000         NaN  1946\n",
       "1    04/01/1946  12241000         NaN  1946\n",
       "2    07/01/1946  12316000         NaN  1946\n",
       "3    10/01/1946  12393000         NaN  1946\n",
       "4    01/01/1947  12450000         NaN  1947\n",
       "..          ...       ...         ...   ...\n",
       "273  04/01/2014  35416179  13640187.0  2014\n",
       "274  07/01/2014  35540419  13678740.0  2014\n",
       "275  10/01/2014  35675834  13730187.0  2014\n",
       "276  01/01/2015  35702707  13733544.0  2015\n",
       "277  04/01/2015  35749600  13750073.0  2015\n",
       "\n",
       "[278 rows x 4 columns]"
      ]
     },
     "execution_count": 8,
     "metadata": {},
     "output_type": "execute_result"
    }
   ],
   "source": [
    "gdp = pd.read_csv('Resources\\Canada_GDP_1960-2018.csv')\n",
    "gdp\n",
    "\n",
    "population = pd.read_csv('Resources\\canada_population.csv')\n",
    "pop_on = population[['When', 'Canada', 'Ontario']]\n",
    "pop_on['Year'] = pop_on['When'].str[-4:]\n"
   ]
  },
  {
   "cell_type": "code",
   "execution_count": 13,
   "metadata": {},
   "outputs": [],
   "source": [
    "pop_on_year = pop_on.groupby(['Year'])['Ontario'].max()"
   ]
  },
  {
   "cell_type": "code",
   "execution_count": 16,
   "metadata": {},
   "outputs": [
    {
     "data": {
      "text/plain": [
       "<bound method Series.reset_index of Year\n",
       "1946           NaN\n",
       "1947           NaN\n",
       "1948           NaN\n",
       "1949           NaN\n",
       "1950           NaN\n",
       "           ...    \n",
       "2011    13316463.0\n",
       "2012    13456709.0\n",
       "2013    13603904.0\n",
       "2014    13730187.0\n",
       "2015    13750073.0\n",
       "Name: Ontario, Length: 70, dtype: float64>"
      ]
     },
     "execution_count": 16,
     "metadata": {},
     "output_type": "execute_result"
    }
   ],
   "source": [
    "pop_on_year = pop_on_year.drop()"
   ]
  },
  {
   "cell_type": "code",
   "execution_count": null,
   "metadata": {},
   "outputs": [],
   "source": []
  }
 ],
 "metadata": {
  "kernelspec": {
   "display_name": "Python 3",
   "language": "python",
   "name": "python3"
  },
  "language_info": {
   "codemirror_mode": {
    "name": "ipython",
    "version": 3
   },
   "file_extension": ".py",
   "mimetype": "text/x-python",
   "name": "python",
   "nbconvert_exporter": "python",
   "pygments_lexer": "ipython3",
   "version": "3.8.3"
  }
 },
 "nbformat": 4,
 "nbformat_minor": 4
}
